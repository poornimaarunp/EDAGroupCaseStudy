{
 "cells": [
  {
   "cell_type": "code",
   "execution_count": 1,
   "metadata": {},
   "outputs": [],
   "source": [
    "## importing necessary libraries\n",
    "import pandas as pd\n",
    "import numpy as np\n",
    "import matplotlib.pyplot as plt\n",
    "import seaborn as sns\n",
    "\n",
    "%matplotlib inline"
   ]
  },
  {
   "cell_type": "code",
   "execution_count": 2,
   "metadata": {},
   "outputs": [
    {
     "name": "stderr",
     "output_type": "stream",
     "text": [
      "/Users/ydeepa/anaconda3/lib/python3.6/site-packages/IPython/core/interactiveshell.py:2728: DtypeWarning: Columns (47) have mixed types. Specify dtype option on import or set low_memory=False.\n",
      "  interactivity=interactivity, compiler=compiler, result=result)\n"
     ]
    }
   ],
   "source": [
    "loan = pd.read_csv('loan.csv')"
   ]
  },
  {
   "cell_type": "code",
   "execution_count": 3,
   "metadata": {},
   "outputs": [
    {
     "data": {
      "text/html": [
       "<div>\n",
       "<style scoped>\n",
       "    .dataframe tbody tr th:only-of-type {\n",
       "        vertical-align: middle;\n",
       "    }\n",
       "\n",
       "    .dataframe tbody tr th {\n",
       "        vertical-align: top;\n",
       "    }\n",
       "\n",
       "    .dataframe thead th {\n",
       "        text-align: right;\n",
       "    }\n",
       "</style>\n",
       "<table border=\"1\" class=\"dataframe\">\n",
       "  <thead>\n",
       "    <tr style=\"text-align: right;\">\n",
       "      <th></th>\n",
       "      <th>id</th>\n",
       "      <th>member_id</th>\n",
       "      <th>loan_amnt</th>\n",
       "      <th>funded_amnt</th>\n",
       "      <th>funded_amnt_inv</th>\n",
       "      <th>term</th>\n",
       "      <th>int_rate</th>\n",
       "      <th>installment</th>\n",
       "      <th>grade</th>\n",
       "      <th>sub_grade</th>\n",
       "      <th>...</th>\n",
       "      <th>num_tl_90g_dpd_24m</th>\n",
       "      <th>num_tl_op_past_12m</th>\n",
       "      <th>pct_tl_nvr_dlq</th>\n",
       "      <th>percent_bc_gt_75</th>\n",
       "      <th>pub_rec_bankruptcies</th>\n",
       "      <th>tax_liens</th>\n",
       "      <th>tot_hi_cred_lim</th>\n",
       "      <th>total_bal_ex_mort</th>\n",
       "      <th>total_bc_limit</th>\n",
       "      <th>total_il_high_credit_limit</th>\n",
       "    </tr>\n",
       "  </thead>\n",
       "  <tbody>\n",
       "    <tr>\n",
       "      <th>0</th>\n",
       "      <td>1077501</td>\n",
       "      <td>1296599</td>\n",
       "      <td>5000</td>\n",
       "      <td>5000</td>\n",
       "      <td>4975.0</td>\n",
       "      <td>36 months</td>\n",
       "      <td>10.65%</td>\n",
       "      <td>162.87</td>\n",
       "      <td>B</td>\n",
       "      <td>B2</td>\n",
       "      <td>...</td>\n",
       "      <td>NaN</td>\n",
       "      <td>NaN</td>\n",
       "      <td>NaN</td>\n",
       "      <td>NaN</td>\n",
       "      <td>0.0</td>\n",
       "      <td>0.0</td>\n",
       "      <td>NaN</td>\n",
       "      <td>NaN</td>\n",
       "      <td>NaN</td>\n",
       "      <td>NaN</td>\n",
       "    </tr>\n",
       "    <tr>\n",
       "      <th>1</th>\n",
       "      <td>1077430</td>\n",
       "      <td>1314167</td>\n",
       "      <td>2500</td>\n",
       "      <td>2500</td>\n",
       "      <td>2500.0</td>\n",
       "      <td>60 months</td>\n",
       "      <td>15.27%</td>\n",
       "      <td>59.83</td>\n",
       "      <td>C</td>\n",
       "      <td>C4</td>\n",
       "      <td>...</td>\n",
       "      <td>NaN</td>\n",
       "      <td>NaN</td>\n",
       "      <td>NaN</td>\n",
       "      <td>NaN</td>\n",
       "      <td>0.0</td>\n",
       "      <td>0.0</td>\n",
       "      <td>NaN</td>\n",
       "      <td>NaN</td>\n",
       "      <td>NaN</td>\n",
       "      <td>NaN</td>\n",
       "    </tr>\n",
       "    <tr>\n",
       "      <th>2</th>\n",
       "      <td>1077175</td>\n",
       "      <td>1313524</td>\n",
       "      <td>2400</td>\n",
       "      <td>2400</td>\n",
       "      <td>2400.0</td>\n",
       "      <td>36 months</td>\n",
       "      <td>15.96%</td>\n",
       "      <td>84.33</td>\n",
       "      <td>C</td>\n",
       "      <td>C5</td>\n",
       "      <td>...</td>\n",
       "      <td>NaN</td>\n",
       "      <td>NaN</td>\n",
       "      <td>NaN</td>\n",
       "      <td>NaN</td>\n",
       "      <td>0.0</td>\n",
       "      <td>0.0</td>\n",
       "      <td>NaN</td>\n",
       "      <td>NaN</td>\n",
       "      <td>NaN</td>\n",
       "      <td>NaN</td>\n",
       "    </tr>\n",
       "    <tr>\n",
       "      <th>3</th>\n",
       "      <td>1076863</td>\n",
       "      <td>1277178</td>\n",
       "      <td>10000</td>\n",
       "      <td>10000</td>\n",
       "      <td>10000.0</td>\n",
       "      <td>36 months</td>\n",
       "      <td>13.49%</td>\n",
       "      <td>339.31</td>\n",
       "      <td>C</td>\n",
       "      <td>C1</td>\n",
       "      <td>...</td>\n",
       "      <td>NaN</td>\n",
       "      <td>NaN</td>\n",
       "      <td>NaN</td>\n",
       "      <td>NaN</td>\n",
       "      <td>0.0</td>\n",
       "      <td>0.0</td>\n",
       "      <td>NaN</td>\n",
       "      <td>NaN</td>\n",
       "      <td>NaN</td>\n",
       "      <td>NaN</td>\n",
       "    </tr>\n",
       "    <tr>\n",
       "      <th>4</th>\n",
       "      <td>1075358</td>\n",
       "      <td>1311748</td>\n",
       "      <td>3000</td>\n",
       "      <td>3000</td>\n",
       "      <td>3000.0</td>\n",
       "      <td>60 months</td>\n",
       "      <td>12.69%</td>\n",
       "      <td>67.79</td>\n",
       "      <td>B</td>\n",
       "      <td>B5</td>\n",
       "      <td>...</td>\n",
       "      <td>NaN</td>\n",
       "      <td>NaN</td>\n",
       "      <td>NaN</td>\n",
       "      <td>NaN</td>\n",
       "      <td>0.0</td>\n",
       "      <td>0.0</td>\n",
       "      <td>NaN</td>\n",
       "      <td>NaN</td>\n",
       "      <td>NaN</td>\n",
       "      <td>NaN</td>\n",
       "    </tr>\n",
       "  </tbody>\n",
       "</table>\n",
       "<p>5 rows × 111 columns</p>\n",
       "</div>"
      ],
      "text/plain": [
       "        id  member_id  loan_amnt  funded_amnt  funded_amnt_inv        term  \\\n",
       "0  1077501    1296599       5000         5000           4975.0   36 months   \n",
       "1  1077430    1314167       2500         2500           2500.0   60 months   \n",
       "2  1077175    1313524       2400         2400           2400.0   36 months   \n",
       "3  1076863    1277178      10000        10000          10000.0   36 months   \n",
       "4  1075358    1311748       3000         3000           3000.0   60 months   \n",
       "\n",
       "  int_rate  installment grade sub_grade            ...              \\\n",
       "0   10.65%       162.87     B        B2            ...               \n",
       "1   15.27%        59.83     C        C4            ...               \n",
       "2   15.96%        84.33     C        C5            ...               \n",
       "3   13.49%       339.31     C        C1            ...               \n",
       "4   12.69%        67.79     B        B5            ...               \n",
       "\n",
       "  num_tl_90g_dpd_24m num_tl_op_past_12m pct_tl_nvr_dlq  percent_bc_gt_75  \\\n",
       "0                NaN                NaN            NaN               NaN   \n",
       "1                NaN                NaN            NaN               NaN   \n",
       "2                NaN                NaN            NaN               NaN   \n",
       "3                NaN                NaN            NaN               NaN   \n",
       "4                NaN                NaN            NaN               NaN   \n",
       "\n",
       "  pub_rec_bankruptcies tax_liens tot_hi_cred_lim total_bal_ex_mort  \\\n",
       "0                  0.0       0.0             NaN               NaN   \n",
       "1                  0.0       0.0             NaN               NaN   \n",
       "2                  0.0       0.0             NaN               NaN   \n",
       "3                  0.0       0.0             NaN               NaN   \n",
       "4                  0.0       0.0             NaN               NaN   \n",
       "\n",
       "  total_bc_limit total_il_high_credit_limit  \n",
       "0            NaN                        NaN  \n",
       "1            NaN                        NaN  \n",
       "2            NaN                        NaN  \n",
       "3            NaN                        NaN  \n",
       "4            NaN                        NaN  \n",
       "\n",
       "[5 rows x 111 columns]"
      ]
     },
     "execution_count": 3,
     "metadata": {},
     "output_type": "execute_result"
    }
   ],
   "source": [
    "loan.head()"
   ]
  },
  {
   "cell_type": "code",
   "execution_count": 4,
   "metadata": {},
   "outputs": [
    {
     "data": {
      "text/plain": [
       "(39717, 111)"
      ]
     },
     "execution_count": 4,
     "metadata": {},
     "output_type": "execute_result"
    }
   ],
   "source": [
    "loan.shape"
   ]
  },
  {
   "cell_type": "code",
   "execution_count": 5,
   "metadata": {},
   "outputs": [
    {
     "name": "stdout",
     "output_type": "stream",
     "text": [
      "<class 'pandas.core.frame.DataFrame'>\n",
      "RangeIndex: 39717 entries, 0 to 39716\n",
      "Columns: 111 entries, id to total_il_high_credit_limit\n",
      "dtypes: float64(74), int64(13), object(24)\n",
      "memory usage: 33.6+ MB\n"
     ]
    }
   ],
   "source": [
    "loan.info()"
   ]
  },
  {
   "cell_type": "markdown",
   "metadata": {},
   "source": [
    "## Data Cleaning"
   ]
  },
  {
   "cell_type": "markdown",
   "metadata": {},
   "source": [
    "### 1. Checking for Missing Values"
   ]
  },
  {
   "cell_type": "markdown",
   "metadata": {},
   "source": [
    "The dataset has 111 columns. We will ignore the columns that have all values as null as they will not be helpful for our analysis"
   ]
  },
  {
   "cell_type": "code",
   "execution_count": 6,
   "metadata": {},
   "outputs": [
    {
     "name": "stdout",
     "output_type": "stream",
     "text": [
      "mths_since_last_major_derog\n",
      "annual_inc_joint\n",
      "dti_joint\n",
      "verification_status_joint\n",
      "tot_coll_amt\n",
      "tot_cur_bal\n",
      "open_acc_6m\n",
      "open_il_6m\n",
      "open_il_12m\n",
      "open_il_24m\n",
      "mths_since_rcnt_il\n",
      "total_bal_il\n",
      "il_util\n",
      "open_rv_12m\n",
      "open_rv_24m\n",
      "max_bal_bc\n",
      "all_util\n",
      "total_rev_hi_lim\n",
      "inq_fi\n",
      "total_cu_tl\n",
      "inq_last_12m\n",
      "acc_open_past_24mths\n",
      "avg_cur_bal\n",
      "bc_open_to_buy\n",
      "bc_util\n",
      "mo_sin_old_il_acct\n",
      "mo_sin_old_rev_tl_op\n",
      "mo_sin_rcnt_rev_tl_op\n",
      "mo_sin_rcnt_tl\n",
      "mort_acc\n",
      "mths_since_recent_bc\n",
      "mths_since_recent_bc_dlq\n",
      "mths_since_recent_inq\n",
      "mths_since_recent_revol_delinq\n",
      "num_accts_ever_120_pd\n",
      "num_actv_bc_tl\n",
      "num_actv_rev_tl\n",
      "num_bc_sats\n",
      "num_bc_tl\n",
      "num_il_tl\n",
      "num_op_rev_tl\n",
      "num_rev_accts\n",
      "num_rev_tl_bal_gt_0\n",
      "num_sats\n",
      "num_tl_120dpd_2m\n",
      "num_tl_30dpd\n",
      "num_tl_90g_dpd_24m\n",
      "num_tl_op_past_12m\n",
      "pct_tl_nvr_dlq\n",
      "percent_bc_gt_75\n",
      "tot_hi_cred_lim\n",
      "total_bal_ex_mort\n",
      "total_bc_limit\n",
      "total_il_high_credit_limit\n"
     ]
    }
   ],
   "source": [
    "# columns that have all values as null\n",
    "for x in loan.columns:\n",
    "    if loan[x].isnull().sum()>=39717:\n",
    "        print(x)"
   ]
  },
  {
   "cell_type": "code",
   "execution_count": 7,
   "metadata": {},
   "outputs": [
    {
     "data": {
      "text/plain": [
       "57"
      ]
     },
     "execution_count": 7,
     "metadata": {},
     "output_type": "execute_result"
    }
   ],
   "source": [
    "columns_notnull = [x for x in loan.columns if loan[x].isnull().sum()<39717]\n",
    "len(columns_notnull) # columns that do not have all values as null"
   ]
  },
  {
   "cell_type": "markdown",
   "metadata": {},
   "source": [
    "Checking if there are columns that have only one value across all the rows.\n",
    "These rows are also not useful as they dont indicate any significant information"
   ]
  },
  {
   "cell_type": "code",
   "execution_count": 8,
   "metadata": {},
   "outputs": [
    {
     "data": {
      "text/plain": [
       "['pymnt_plan',\n",
       " 'initial_list_status',\n",
       " 'collections_12_mths_ex_med',\n",
       " 'policy_code',\n",
       " 'application_type',\n",
       " 'acc_now_delinq',\n",
       " 'chargeoff_within_12_mths',\n",
       " 'delinq_amnt',\n",
       " 'tax_liens']"
      ]
     },
     "execution_count": 8,
     "metadata": {},
     "output_type": "execute_result"
    }
   ],
   "source": [
    "[x for x in columns_notnull if len(loan[x].value_counts())<=1]"
   ]
  },
  {
   "cell_type": "code",
   "execution_count": 9,
   "metadata": {},
   "outputs": [
    {
     "name": "stdout",
     "output_type": "stream",
     "text": [
      "Unique Values in pymnt_plan are n\n",
      "Unique Values in initial_list_status are f\n",
      "Unique Values in collections_12_mths_ex_med are 0.0\n",
      "Unique Values in policy_code are 1\n",
      "Unique Values in application_type are INDIVIDUAL\n",
      "Unique Values in acc_now_delinq are 0\n",
      "Unique Values in chargeoff_within_12_mths are 0.0\n",
      "Unique Values in delinq_amnt are 0\n",
      "Unique Values in tax_liens are 0.0\n"
     ]
    }
   ],
   "source": [
    "#Checking the unique values for each column that has only one unique value\n",
    "for x in columns_notnull:\n",
    "    if len(loan[x].value_counts())<=1:\n",
    "        print('Unique Values in {} are {}'.format(x,loan[x].value_counts().index[0]))"
   ]
  },
  {
   "cell_type": "markdown",
   "metadata": {},
   "source": [
    "We can safely ignore these columns too for our analysis"
   ]
  },
  {
   "cell_type": "code",
   "execution_count": 10,
   "metadata": {},
   "outputs": [
    {
     "data": {
      "text/plain": [
       "48"
      ]
     },
     "execution_count": 10,
     "metadata": {},
     "output_type": "execute_result"
    }
   ],
   "source": [
    "# removing the columns that have same value\n",
    "columns_notnull = [x for x in columns_notnull if len(loan[x].value_counts())>1]\n",
    "len(columns_notnull)"
   ]
  },
  {
   "cell_type": "code",
   "execution_count": 11,
   "metadata": {},
   "outputs": [
    {
     "name": "stdout",
     "output_type": "stream",
     "text": [
      "emp_title 2459\n",
      "emp_length 1075\n",
      "desc 12940\n",
      "title 11\n",
      "mths_since_last_delinq 25682\n",
      "mths_since_last_record 36931\n",
      "revol_util 50\n",
      "last_pymnt_d 71\n",
      "next_pymnt_d 38577\n",
      "last_credit_pull_d 2\n",
      "pub_rec_bankruptcies 697\n"
     ]
    }
   ],
   "source": [
    "for x in columns_notnull:\n",
    "    if loan[x].isnull().sum()>0:\n",
    "        print(x, loan[x].isnull().sum())"
   ]
  },
  {
   "cell_type": "markdown",
   "metadata": {},
   "source": [
    "Now that we have 48 columns, There are 7 columns that have null values. We will review the columns that have null values one by one"
   ]
  },
  {
   "cell_type": "code",
   "execution_count": 12,
   "metadata": {},
   "outputs": [
    {
     "name": "stdout",
     "output_type": "stream",
     "text": [
      "emp_title 2459\n",
      "emp_length 1075\n",
      "desc 12940\n",
      "title 11\n",
      "mths_since_last_delinq 25682\n",
      "mths_since_last_record 36931\n",
      "revol_util 50\n",
      "last_pymnt_d 71\n",
      "next_pymnt_d 38577\n",
      "last_credit_pull_d 2\n",
      "pub_rec_bankruptcies 697\n"
     ]
    }
   ],
   "source": [
    "for x in columns_notnull:\n",
    "    if loan[x].isnull().sum()>0:\n",
    "        print(x, loan[x].isnull().sum())"
   ]
  },
  {
   "cell_type": "markdown",
   "metadata": {},
   "source": [
    "#### emp_title : \"The job title supplied by the Borrower when applying for the loan.\""
   ]
  },
  {
   "cell_type": "markdown",
   "metadata": {},
   "source": [
    "1. emp_title has 2458 null values\n",
    "2. Also in the data dictionary it is mentioned that \"Employer Title replaces Employer Name for all loans listed after 9/23/2013\" \n",
    "\n",
    "But there is no column indicating employer name, hence we will add all null values under a category 'Other'"
   ]
  },
  {
   "cell_type": "code",
   "execution_count": 13,
   "metadata": {},
   "outputs": [
    {
     "data": {
      "text/plain": [
       "23591    Other\n",
       "25498    other\n",
       "Name: emp_title, dtype: object"
      ]
     },
     "execution_count": 13,
     "metadata": {},
     "output_type": "execute_result"
    }
   ],
   "source": [
    "#Checking if 'Other' value is already present\n",
    "loan[loan.emp_title.str.lower()=='other'].emp_title"
   ]
  },
  {
   "cell_type": "code",
   "execution_count": 14,
   "metadata": {},
   "outputs": [
    {
     "data": {
      "text/plain": [
       "0"
      ]
     },
     "execution_count": 14,
     "metadata": {},
     "output_type": "execute_result"
    }
   ],
   "source": [
    "#filling all null values as 'Other'\n",
    "loan.emp_title.fillna('Other', inplace=True)\n",
    "loan.emp_title.isnull().sum() # checking if all null values are filled"
   ]
  },
  {
   "cell_type": "markdown",
   "metadata": {},
   "source": [
    "#### desc : \"loan description provided by the borrower\""
   ]
  },
  {
   "cell_type": "markdown",
   "metadata": {},
   "source": [
    "1. desc column has 12939 null values. \n",
    "2. We can fill all the null values with 'Not Provided'"
   ]
  },
  {
   "cell_type": "code",
   "execution_count": 15,
   "metadata": {},
   "outputs": [
    {
     "data": {
      "text/plain": [
       "\"  Borrower added on 12/21/11 > to pay for property tax (borrow from friend, need to pay back) & central A/C need to be replace. I'm very sorry to let my loan expired last time.<br>\""
      ]
     },
     "execution_count": 15,
     "metadata": {},
     "output_type": "execute_result"
    }
   ],
   "source": [
    "loan.desc[3]"
   ]
  },
  {
   "cell_type": "code",
   "execution_count": 16,
   "metadata": {},
   "outputs": [
    {
     "data": {
      "text/plain": [
       "0"
      ]
     },
     "execution_count": 16,
     "metadata": {},
     "output_type": "execute_result"
    }
   ],
   "source": [
    "loan.desc.fillna('Not Provided', inplace=True)\n",
    "loan.desc.isnull().sum() # checking if all null values are filled"
   ]
  },
  {
   "cell_type": "markdown",
   "metadata": {},
   "source": [
    "#### title : \"The loan title provided by the borrower\""
   ]
  },
  {
   "cell_type": "markdown",
   "metadata": {},
   "source": [
    "1. title has 10 null values\n",
    "2. We can fill the null values as 'Not Provided'"
   ]
  },
  {
   "cell_type": "code",
   "execution_count": 17,
   "metadata": {},
   "outputs": [
    {
     "data": {
      "text/plain": [
       "0                                 Computer\n",
       "1                                     bike\n",
       "2                     real estate business\n",
       "3                                 personel\n",
       "4                                 Personal\n",
       "5    My wedding loan I promise to pay back\n",
       "6                                     Loan\n",
       "7                          Car Downpayment\n",
       "8     Expand Business & Buy Debt Portfolio\n",
       "9              Building my credit history.\n",
       "Name: title, dtype: object"
      ]
     },
     "execution_count": 17,
     "metadata": {},
     "output_type": "execute_result"
    }
   ],
   "source": [
    "loan.title[0:10]"
   ]
  },
  {
   "cell_type": "code",
   "execution_count": 18,
   "metadata": {},
   "outputs": [
    {
     "data": {
      "text/plain": [
       "0"
      ]
     },
     "execution_count": 18,
     "metadata": {},
     "output_type": "execute_result"
    }
   ],
   "source": [
    "loan.title.fillna('Not Provided', inplace=True)\n",
    "loan.title.isnull().sum()"
   ]
  },
  {
   "cell_type": "markdown",
   "metadata": {},
   "source": [
    "#### mths_since_last_delinq : \"The number of months since the borrower's last delinquency.\""
   ]
  },
  {
   "cell_type": "markdown",
   "metadata": {},
   "source": [
    "1. mths_since_last_delinq has 25682 null values\n",
    "2. As per the description of the field, this column indicates the number of months if borrower is delinquent"
   ]
  },
  {
   "cell_type": "code",
   "execution_count": 19,
   "metadata": {},
   "outputs": [
    {
     "name": "stdout",
     "output_type": "stream",
     "text": [
      "Percentage of null values present = 64.66%. There are 25682 null values in this field out of 39717 values\n"
     ]
    }
   ],
   "source": [
    "print ('Percentage of null values present = {}%. There are {} null values in this field out of {} values'\n",
    "       .format(round(100* loan[loan.mths_since_last_delinq.isnull()].shape[0]/loan.shape[0],2), \n",
    "               loan[loan.mths_since_last_delinq.isnull()].shape[0], \n",
    "               loan.shape[0])\n",
    "      )"
   ]
  },
  {
   "cell_type": "markdown",
   "metadata": {},
   "source": [
    "Hence removing this column from our analysis"
   ]
  },
  {
   "cell_type": "code",
   "execution_count": 20,
   "metadata": {},
   "outputs": [],
   "source": [
    "columns_notnull.remove('mths_since_last_delinq')"
   ]
  },
  {
   "cell_type": "markdown",
   "metadata": {},
   "source": [
    "#### mths_since_last_record : \"The number of months since the last public record.\""
   ]
  },
  {
   "cell_type": "markdown",
   "metadata": {},
   "source": [
    "1. mths_since_last_record has 36931 null values\n",
    "\n",
    "Lets look at the percentage of null values"
   ]
  },
  {
   "cell_type": "code",
   "execution_count": 21,
   "metadata": {},
   "outputs": [
    {
     "name": "stdout",
     "output_type": "stream",
     "text": [
      "Percentage of null values present = 92.99%. There are 36931 null values in this field out of 39717 values\n"
     ]
    }
   ],
   "source": [
    "print ('Percentage of null values present = {}%. There are {} null values in this field out of {} values'\n",
    "       .format(round(100* loan[loan.mths_since_last_record.isnull()].shape[0]/loan.shape[0],2), \n",
    "               loan[loan.mths_since_last_record.isnull()].shape[0], \n",
    "               loan.shape[0])\n",
    "      )"
   ]
  },
  {
   "cell_type": "markdown",
   "metadata": {},
   "source": [
    "Hence removing this column from our analysis"
   ]
  },
  {
   "cell_type": "code",
   "execution_count": 22,
   "metadata": {},
   "outputs": [],
   "source": [
    "columns_notnull.remove('mths_since_last_record')"
   ]
  },
  {
   "cell_type": "markdown",
   "metadata": {},
   "source": [
    "#### revol_util : \"Revolving line utilization rate, or the amount of credit the borrower is using relative to all available revolving credit.\""
   ]
  },
  {
   "cell_type": "markdown",
   "metadata": {},
   "source": [
    "1. There are 50 null values in revol_util column\n",
    "2. This column indicates the revolving line utilization rate.\n",
    "3. We can replace all the null values to 0% (min value) so that we can utilize the not-null values during our analysis"
   ]
  },
  {
   "cell_type": "code",
   "execution_count": 23,
   "metadata": {},
   "outputs": [
    {
     "name": "stdout",
     "output_type": "stream",
     "text": [
      "Percentage of null values present = 0.13%. There are 50 null values in this field out of 39717 values\n"
     ]
    }
   ],
   "source": [
    "print ('Percentage of null values present = {}%. There are {} null values in this field out of {} values'\n",
    "       .format(round(100* loan[loan.revol_util.isnull()].shape[0]/loan.shape[0],2), \n",
    "               loan[loan.revol_util.isnull()].shape[0], \n",
    "               loan.shape[0])\n",
    "      )"
   ]
  },
  {
   "cell_type": "code",
   "execution_count": 24,
   "metadata": {},
   "outputs": [
    {
     "data": {
      "text/plain": [
       "0"
      ]
     },
     "execution_count": 24,
     "metadata": {},
     "output_type": "execute_result"
    }
   ],
   "source": [
    "loan.revol_util.fillna('0',inplace=True)\n",
    "loan.revol_util.isnull().sum() # checking if the null values are replaced"
   ]
  },
  {
   "cell_type": "markdown",
   "metadata": {},
   "source": [
    "#### last_pymnt_d : \"Last month payment was received\""
   ]
  },
  {
   "cell_type": "markdown",
   "metadata": {},
   "source": [
    "1. This column has 71 null values"
   ]
  },
  {
   "cell_type": "code",
   "execution_count": 25,
   "metadata": {},
   "outputs": [
    {
     "data": {
      "text/plain": [
       "0.0    71\n",
       "Name: last_pymnt_amnt, dtype: int64"
      ]
     },
     "execution_count": 25,
     "metadata": {},
     "output_type": "execute_result"
    }
   ],
   "source": [
    "loan[loan.last_pymnt_d.isnull()>0].last_pymnt_amnt.value_counts()"
   ]
  },
  {
   "cell_type": "code",
   "execution_count": 26,
   "metadata": {},
   "outputs": [
    {
     "data": {
      "text/plain": [
       "May-16    1256\n",
       "Mar-13    1026\n",
       "Dec-14     945\n",
       "May-13     907\n",
       "Feb-13     869\n",
       "Apr-13     851\n",
       "Mar-12     844\n",
       "Jan-14     832\n",
       "Aug-12     832\n",
       "Aug-14     832\n",
       "Oct-12     826\n",
       "Mar-14     824\n",
       "Jul-14     820\n",
       "Oct-14     808\n",
       "Feb-14     792\n",
       "Jan-13     784\n",
       "Dec-13     780\n",
       "Jun-14     778\n",
       "Jul-13     776\n",
       "Sep-12     761\n",
       "Jul-12     741\n",
       "Nov-12     740\n",
       "May-12     736\n",
       "Feb-12     735\n",
       "Apr-12     734\n",
       "Aug-13     727\n",
       "Dec-12     707\n",
       "Jun-12     702\n",
       "Sep-14     693\n",
       "Oct-13     692\n",
       "          ... \n",
       "Apr-15     136\n",
       "Jun-10     116\n",
       "May-10     116\n",
       "Apr-10     114\n",
       "Feb-10     112\n",
       "Dec-09      93\n",
       "Jan-10      73\n",
       "Oct-09      62\n",
       "Nov-09      59\n",
       "Aug-09      49\n",
       "Apr-09      43\n",
       "Jul-09      43\n",
       "May-09      41\n",
       "Jun-09      40\n",
       "Mar-09      38\n",
       "Sep-09      37\n",
       "Feb-09      33\n",
       "Oct-08      28\n",
       "Jan-09      21\n",
       "Jul-08      14\n",
       "Dec-08      14\n",
       "May-08      14\n",
       "Aug-08      13\n",
       "Apr-08      12\n",
       "Sep-08      12\n",
       "Nov-08      10\n",
       "Jun-08      10\n",
       "Mar-08       5\n",
       "Jan-08       4\n",
       "Feb-08       1\n",
       "Name: last_pymnt_d, Length: 101, dtype: int64"
      ]
     },
     "execution_count": 26,
     "metadata": {},
     "output_type": "execute_result"
    }
   ],
   "source": [
    "loan.last_pymnt_d.value_counts()"
   ]
  },
  {
   "cell_type": "markdown",
   "metadata": {},
   "source": [
    "2. The blank values in this column indicates that last month payment was not received as the last_pymnt_amnt is null.\n",
    "3. We decide to keep the null values as is for our further analysis"
   ]
  },
  {
   "cell_type": "markdown",
   "metadata": {},
   "source": [
    "#### next_pymnt_d : \"Next scheduled payment date\""
   ]
  },
  {
   "cell_type": "markdown",
   "metadata": {},
   "source": [
    "1. next_pymnt_d has 38577 null values\n",
    "2. Next payment date will be scheduled for loans that are not yet paid fully. So let us look at the loan status to compare this field"
   ]
  },
  {
   "cell_type": "code",
   "execution_count": 27,
   "metadata": {},
   "outputs": [
    {
     "data": {
      "text/plain": [
       "Fully Paid     32950\n",
       "Charged Off     5627\n",
       "Name: loan_status, dtype: int64"
      ]
     },
     "execution_count": 27,
     "metadata": {},
     "output_type": "execute_result"
    }
   ],
   "source": [
    "loan[loan.next_pymnt_d.isnull()>0].loan_status.value_counts()"
   ]
  },
  {
   "cell_type": "markdown",
   "metadata": {},
   "source": [
    "all null values in next_pymnt_d fall under 'Fully Paid' or 'Charged Off' under loan_status column. we have to keep this column to analyze next_pymnt_d on other loan statuses"
   ]
  },
  {
   "cell_type": "markdown",
   "metadata": {},
   "source": [
    "#### last_credit_pull_d : \"The most recent month LC pulled credit for this loan\""
   ]
  },
  {
   "cell_type": "markdown",
   "metadata": {},
   "source": [
    "1. last_credit_pull_d has 2 null values\n",
    "2. Since the null values are only 2, We will keep this column for our analysis"
   ]
  },
  {
   "cell_type": "code",
   "execution_count": 28,
   "metadata": {},
   "outputs": [
    {
     "data": {
      "text/plain": [
       "count      39715\n",
       "unique       106\n",
       "top       May-16\n",
       "freq       10308\n",
       "Name: last_credit_pull_d, dtype: object"
      ]
     },
     "execution_count": 28,
     "metadata": {},
     "output_type": "execute_result"
    }
   ],
   "source": [
    "loan.last_credit_pull_d.describe()"
   ]
  },
  {
   "cell_type": "markdown",
   "metadata": {},
   "source": [
    "#### pub_rec_bankruptcies : \"Number of public record bankruptcies\""
   ]
  },
  {
   "cell_type": "markdown",
   "metadata": {},
   "source": [
    "1. There are 697 null values in this field"
   ]
  },
  {
   "cell_type": "code",
   "execution_count": 29,
   "metadata": {},
   "outputs": [
    {
     "data": {
      "text/plain": [
       "count    39020.000000\n",
       "mean         0.043260\n",
       "std          0.204324\n",
       "min          0.000000\n",
       "25%          0.000000\n",
       "50%          0.000000\n",
       "75%          0.000000\n",
       "max          2.000000\n",
       "Name: pub_rec_bankruptcies, dtype: float64"
      ]
     },
     "execution_count": 29,
     "metadata": {},
     "output_type": "execute_result"
    }
   ],
   "source": [
    "loan.pub_rec_bankruptcies.describe()"
   ]
  },
  {
   "cell_type": "markdown",
   "metadata": {},
   "source": [
    "Since the minimum is 0 for this column and maximum is 2, Let us fill the null values with 0 (no records)"
   ]
  },
  {
   "cell_type": "code",
   "execution_count": 30,
   "metadata": {},
   "outputs": [],
   "source": [
    "loan.pub_rec_bankruptcies.fillna(0,inplace=True)"
   ]
  },
  {
   "cell_type": "markdown",
   "metadata": {},
   "source": [
    "Now the data is cleaned for missing values and all the necessary columns names are captured in the list columns_notnull"
   ]
  },
  {
   "cell_type": "code",
   "execution_count": 31,
   "metadata": {},
   "outputs": [
    {
     "name": "stdout",
     "output_type": "stream",
     "text": [
      "We have the below 46 columns after cleaning the dataset for missing values \n",
      " \n",
      " ['id', 'member_id', 'loan_amnt', 'funded_amnt', 'funded_amnt_inv', 'term', 'int_rate', 'installment', 'grade', 'sub_grade', 'emp_title', 'emp_length', 'home_ownership', 'annual_inc', 'verification_status', 'issue_d', 'loan_status', 'url', 'desc', 'purpose', 'title', 'zip_code', 'addr_state', 'dti', 'delinq_2yrs', 'earliest_cr_line', 'inq_last_6mths', 'open_acc', 'pub_rec', 'revol_bal', 'revol_util', 'total_acc', 'out_prncp', 'out_prncp_inv', 'total_pymnt', 'total_pymnt_inv', 'total_rec_prncp', 'total_rec_int', 'total_rec_late_fee', 'recoveries', 'collection_recovery_fee', 'last_pymnt_d', 'last_pymnt_amnt', 'next_pymnt_d', 'last_credit_pull_d', 'pub_rec_bankruptcies']\n"
     ]
    }
   ],
   "source": [
    "print('We have the below {} columns after cleaning the dataset for missing values \\n \\n {}'\n",
    "      .format(len(columns_notnull),columns_notnull))"
   ]
  },
  {
   "cell_type": "markdown",
   "metadata": {},
   "source": [
    "### 2. Delete columns that are unnecessary"
   ]
  },
  {
   "cell_type": "markdown",
   "metadata": {},
   "source": [
    "#### id: A unique LC assigned ID for the loan listing."
   ]
  },
  {
   "cell_type": "code",
   "execution_count": 32,
   "metadata": {},
   "outputs": [
    {
     "name": "stdout",
     "output_type": "stream",
     "text": [
      "Number of unique values in 'id' column = 39717\n"
     ]
    }
   ],
   "source": [
    "print(\"Number of unique values in 'id' column = {}\".format(len(loan.id.unique())))"
   ]
  },
  {
   "cell_type": "markdown",
   "metadata": {},
   "source": [
    "In the loan dataset, the column 'id' is the unique identifier for the LC and all the values are unique. \n",
    "Let us remove the column for our analysis"
   ]
  },
  {
   "cell_type": "code",
   "execution_count": 33,
   "metadata": {},
   "outputs": [],
   "source": [
    "columns_notnull.remove('id')"
   ]
  },
  {
   "cell_type": "markdown",
   "metadata": {},
   "source": [
    "#### member_id: A unique LC assigned Id for the borrower member."
   ]
  },
  {
   "cell_type": "code",
   "execution_count": 34,
   "metadata": {},
   "outputs": [
    {
     "name": "stdout",
     "output_type": "stream",
     "text": [
      "Number of unique values in 'member_id' column = 39717\n"
     ]
    }
   ],
   "source": [
    "print(\"Number of unique values in 'member_id' column = {}\".format(len(loan.member_id.unique())))"
   ]
  },
  {
   "cell_type": "markdown",
   "metadata": {},
   "source": [
    "Similar to the 'id' column, member_id also has all unique values. So let us remove the column for our analysis"
   ]
  },
  {
   "cell_type": "code",
   "execution_count": 35,
   "metadata": {},
   "outputs": [],
   "source": [
    "columns_notnull.remove('member_id')"
   ]
  },
  {
   "cell_type": "code",
   "execution_count": 36,
   "metadata": {},
   "outputs": [
    {
     "name": "stdout",
     "output_type": "stream",
     "text": [
      "We have the below 44 columns after 'deleting the identified columns' \n",
      " \n",
      " ['loan_amnt', 'funded_amnt', 'funded_amnt_inv', 'term', 'int_rate', 'installment', 'grade', 'sub_grade', 'emp_title', 'emp_length', 'home_ownership', 'annual_inc', 'verification_status', 'issue_d', 'loan_status', 'url', 'desc', 'purpose', 'title', 'zip_code', 'addr_state', 'dti', 'delinq_2yrs', 'earliest_cr_line', 'inq_last_6mths', 'open_acc', 'pub_rec', 'revol_bal', 'revol_util', 'total_acc', 'out_prncp', 'out_prncp_inv', 'total_pymnt', 'total_pymnt_inv', 'total_rec_prncp', 'total_rec_int', 'total_rec_late_fee', 'recoveries', 'collection_recovery_fee', 'last_pymnt_d', 'last_pymnt_amnt', 'next_pymnt_d', 'last_credit_pull_d', 'pub_rec_bankruptcies']\n"
     ]
    }
   ],
   "source": [
    "print(\"We have the below {} columns after 'deleting the identified columns' \\n \\n {}\".format(len(columns_notnull),columns_notnull))"
   ]
  },
  {
   "cell_type": "code",
   "execution_count": 37,
   "metadata": {},
   "outputs": [],
   "source": [
    "# loan dataset is sliced to have only the above columns\n",
    "loan = loan[columns_notnull]"
   ]
  },
  {
   "cell_type": "code",
   "execution_count": 38,
   "metadata": {},
   "outputs": [
    {
     "data": {
      "text/plain": [
       "(39717, 44)"
      ]
     },
     "execution_count": 38,
     "metadata": {},
     "output_type": "execute_result"
    }
   ],
   "source": [
    "loan.shape"
   ]
  },
  {
   "cell_type": "markdown",
   "metadata": {},
   "source": [
    "### 3. Convert incorrect data types:"
   ]
  },
  {
   "cell_type": "markdown",
   "metadata": {},
   "source": [
    "#### 3.1 There are date columns in the dataset that needs to be corrected to proper datetime format\n",
    "\n",
    "['issue_d', 'last_pymnt_d', 'next_pymnt_d', 'last_credit_pull_d']"
   ]
  },
  {
   "cell_type": "markdown",
   "metadata": {},
   "source": [
    "#### issue_d"
   ]
  },
  {
   "cell_type": "code",
   "execution_count": 39,
   "metadata": {},
   "outputs": [
    {
     "data": {
      "text/plain": [
       "Dec-11    2260\n",
       "Nov-11    2223\n",
       "Oct-11    2114\n",
       "Sep-11    2063\n",
       "Aug-11    1928\n",
       "Jul-11    1870\n",
       "Jun-11    1827\n",
       "May-11    1689\n",
       "Apr-11    1562\n",
       "Mar-11    1443\n",
       "Name: issue_d, dtype: int64"
      ]
     },
     "execution_count": 39,
     "metadata": {},
     "output_type": "execute_result"
    }
   ],
   "source": [
    "loan.issue_d.value_counts()[0:10]"
   ]
  },
  {
   "cell_type": "markdown",
   "metadata": {},
   "source": [
    "The issue_d has only month and year and not the date of the month."
   ]
  },
  {
   "cell_type": "code",
   "execution_count": 40,
   "metadata": {},
   "outputs": [
    {
     "data": {
      "text/plain": [
       "May-16    1256\n",
       "Mar-13    1026\n",
       "Dec-14     945\n",
       "May-13     907\n",
       "Feb-13     869\n",
       "Apr-13     851\n",
       "Mar-12     844\n",
       "Jan-14     832\n",
       "Aug-12     832\n",
       "Aug-14     832\n",
       "Name: last_pymnt_d, dtype: int64"
      ]
     },
     "execution_count": 40,
     "metadata": {},
     "output_type": "execute_result"
    }
   ],
   "source": [
    "loan.last_pymnt_d.value_counts()[0:10]"
   ]
  },
  {
   "cell_type": "code",
   "execution_count": 41,
   "metadata": {},
   "outputs": [
    {
     "data": {
      "text/plain": [
       "Jun-16    1125\n",
       "Jul-16      15\n",
       "Name: next_pymnt_d, dtype: int64"
      ]
     },
     "execution_count": 41,
     "metadata": {},
     "output_type": "execute_result"
    }
   ],
   "source": [
    "loan.next_pymnt_d.value_counts()[0:10]"
   ]
  },
  {
   "cell_type": "code",
   "execution_count": 42,
   "metadata": {},
   "outputs": [
    {
     "data": {
      "text/plain": [
       "May-16    10308\n",
       "Apr-16     2547\n",
       "Mar-16     1123\n",
       "Feb-13      843\n",
       "Feb-16      736\n",
       "Jan-16      657\n",
       "Dec-15      647\n",
       "Mar-13      577\n",
       "Mar-14      564\n",
       "Dec-14      562\n",
       "Name: last_credit_pull_d, dtype: int64"
      ]
     },
     "execution_count": 42,
     "metadata": {},
     "output_type": "execute_result"
    }
   ],
   "source": [
    "loan.last_credit_pull_d.value_counts()[0:10]"
   ]
  },
  {
   "cell_type": "markdown",
   "metadata": {},
   "source": [
    "Similar to issue_d, all the above dates contain only month and Year. "
   ]
  },
  {
   "cell_type": "code",
   "execution_count": 43,
   "metadata": {},
   "outputs": [],
   "source": [
    "loan['issue_d'] = pd.to_datetime(loan.issue_d,format='%b-%y')\n",
    "loan['last_pymnt_d'] = pd.to_datetime(loan.last_pymnt_d,format='%b-%y')\n",
    "loan['next_pymnt_d'] = pd.to_datetime(loan.next_pymnt_d,format='%b-%y')\n",
    "loan['last_credit_pull_d'] = pd.to_datetime(loan.last_credit_pull_d,format='%b-%y')"
   ]
  },
  {
   "cell_type": "code",
   "execution_count": 44,
   "metadata": {},
   "outputs": [
    {
     "data": {
      "text/html": [
       "<div>\n",
       "<style scoped>\n",
       "    .dataframe tbody tr th:only-of-type {\n",
       "        vertical-align: middle;\n",
       "    }\n",
       "\n",
       "    .dataframe tbody tr th {\n",
       "        vertical-align: top;\n",
       "    }\n",
       "\n",
       "    .dataframe thead th {\n",
       "        text-align: right;\n",
       "    }\n",
       "</style>\n",
       "<table border=\"1\" class=\"dataframe\">\n",
       "  <thead>\n",
       "    <tr style=\"text-align: right;\">\n",
       "      <th></th>\n",
       "      <th>issue_d</th>\n",
       "      <th>last_pymnt_d</th>\n",
       "      <th>next_pymnt_d</th>\n",
       "      <th>last_credit_pull_d</th>\n",
       "    </tr>\n",
       "  </thead>\n",
       "  <tbody>\n",
       "    <tr>\n",
       "      <th>0</th>\n",
       "      <td>2011-12-01</td>\n",
       "      <td>2015-01-01</td>\n",
       "      <td>NaT</td>\n",
       "      <td>2016-05-01</td>\n",
       "    </tr>\n",
       "    <tr>\n",
       "      <th>1</th>\n",
       "      <td>2011-12-01</td>\n",
       "      <td>2013-04-01</td>\n",
       "      <td>NaT</td>\n",
       "      <td>2013-09-01</td>\n",
       "    </tr>\n",
       "    <tr>\n",
       "      <th>2</th>\n",
       "      <td>2011-12-01</td>\n",
       "      <td>2014-06-01</td>\n",
       "      <td>NaT</td>\n",
       "      <td>2016-05-01</td>\n",
       "    </tr>\n",
       "    <tr>\n",
       "      <th>3</th>\n",
       "      <td>2011-12-01</td>\n",
       "      <td>2015-01-01</td>\n",
       "      <td>NaT</td>\n",
       "      <td>2016-04-01</td>\n",
       "    </tr>\n",
       "    <tr>\n",
       "      <th>4</th>\n",
       "      <td>2011-12-01</td>\n",
       "      <td>2016-05-01</td>\n",
       "      <td>2016-06-01</td>\n",
       "      <td>2016-05-01</td>\n",
       "    </tr>\n",
       "  </tbody>\n",
       "</table>\n",
       "</div>"
      ],
      "text/plain": [
       "     issue_d last_pymnt_d next_pymnt_d last_credit_pull_d\n",
       "0 2011-12-01   2015-01-01          NaT         2016-05-01\n",
       "1 2011-12-01   2013-04-01          NaT         2013-09-01\n",
       "2 2011-12-01   2014-06-01          NaT         2016-05-01\n",
       "3 2011-12-01   2015-01-01          NaT         2016-04-01\n",
       "4 2011-12-01   2016-05-01   2016-06-01         2016-05-01"
      ]
     },
     "execution_count": 44,
     "metadata": {},
     "output_type": "execute_result"
    }
   ],
   "source": [
    "#converted dates to correct format\n",
    "loan[['issue_d', 'last_pymnt_d', 'next_pymnt_d', 'last_credit_pull_d']].head()"
   ]
  },
  {
   "cell_type": "markdown",
   "metadata": {},
   "source": [
    "#### 3.2 Check and convert datatypes object to appropriate format"
   ]
  },
  {
   "cell_type": "code",
   "execution_count": 45,
   "metadata": {},
   "outputs": [
    {
     "data": {
      "text/plain": [
       "Index(['term', 'int_rate', 'grade', 'sub_grade', 'emp_title', 'emp_length',\n",
       "       'home_ownership', 'verification_status', 'loan_status', 'url', 'desc',\n",
       "       'purpose', 'title', 'zip_code', 'addr_state', 'earliest_cr_line',\n",
       "       'revol_util'],\n",
       "      dtype='object')"
      ]
     },
     "execution_count": 45,
     "metadata": {},
     "output_type": "execute_result"
    }
   ],
   "source": [
    "loan.select_dtypes(include=['object']).columns"
   ]
  },
  {
   "cell_type": "markdown",
   "metadata": {},
   "source": [
    "##### term has 'months'"
   ]
  },
  {
   "cell_type": "code",
   "execution_count": 46,
   "metadata": {},
   "outputs": [
    {
     "data": {
      "text/plain": [
       "' 36 months'"
      ]
     },
     "execution_count": 46,
     "metadata": {},
     "output_type": "execute_result"
    }
   ],
   "source": [
    "loan.term[0]"
   ]
  },
  {
   "cell_type": "code",
   "execution_count": 47,
   "metadata": {},
   "outputs": [
    {
     "data": {
      "text/plain": [
       "36    29096\n",
       "60    10621\n",
       "Name: term, dtype: int64"
      ]
     },
     "execution_count": 47,
     "metadata": {},
     "output_type": "execute_result"
    }
   ],
   "source": [
    "# Removing 'months' from term\n",
    "loan['term'] = loan.term.apply(lambda x: int(x.lstrip(' ').rstrip(' months')))\n",
    "loan.term.value_counts()"
   ]
  },
  {
   "cell_type": "markdown",
   "metadata": {},
   "source": [
    "##### int_rate has % and also needs to be converted to fraction"
   ]
  },
  {
   "cell_type": "code",
   "execution_count": 48,
   "metadata": {},
   "outputs": [
    {
     "data": {
      "text/plain": [
       "'10.65%'"
      ]
     },
     "execution_count": 48,
     "metadata": {},
     "output_type": "execute_result"
    }
   ],
   "source": [
    "loan.int_rate[0]"
   ]
  },
  {
   "cell_type": "code",
   "execution_count": 49,
   "metadata": {},
   "outputs": [
    {
     "data": {
      "text/plain": [
       "0.11    5086\n",
       "0.13    4757\n",
       "0.10    3434\n",
       "0.08    3386\n",
       "0.07    3272\n",
       "0.12    3240\n",
       "0.14    2897\n",
       "0.16    2681\n",
       "0.15    2618\n",
       "0.06    1532\n",
       "0.17    1522\n",
       "0.09    1520\n",
       "0.18    1195\n",
       "0.19     881\n",
       "0.05     573\n",
       "0.20     497\n",
       "0.21     353\n",
       "0.22     195\n",
       "0.23      49\n",
       "0.24      28\n",
       "0.25       1\n",
       "Name: int_rate, dtype: int64"
      ]
     },
     "execution_count": 49,
     "metadata": {},
     "output_type": "execute_result"
    }
   ],
   "source": [
    "#removing % and converting to fraction, rounded to two decimal digits\n",
    "loan['int_rate'] = loan.int_rate.apply(lambda x: round(float(x.rstrip('%'))/100,2))\n",
    "loan.int_rate.value_counts()"
   ]
  },
  {
   "cell_type": "markdown",
   "metadata": {},
   "source": [
    "##### grade values are categorical"
   ]
  },
  {
   "cell_type": "code",
   "execution_count": 50,
   "metadata": {},
   "outputs": [
    {
     "data": {
      "text/plain": [
       "B    12020\n",
       "A    10085\n",
       "C     8098\n",
       "D     5307\n",
       "E     2842\n",
       "F     1049\n",
       "G      316\n",
       "Name: grade, dtype: int64"
      ]
     },
     "execution_count": 50,
     "metadata": {},
     "output_type": "execute_result"
    }
   ],
   "source": [
    "loan.grade.value_counts()"
   ]
  },
  {
   "cell_type": "markdown",
   "metadata": {},
   "source": [
    "##### sub_grade is also categorical"
   ]
  },
  {
   "cell_type": "code",
   "execution_count": 51,
   "metadata": {},
   "outputs": [
    {
     "data": {
      "text/plain": [
       "B3    2917\n",
       "A4    2886\n",
       "A5    2742\n",
       "B5    2704\n",
       "B4    2512\n",
       "C1    2136\n",
       "B2    2057\n",
       "C2    2011\n",
       "B1    1830\n",
       "A3    1810\n",
       "C3    1529\n",
       "A2    1508\n",
       "D2    1348\n",
       "C4    1236\n",
       "C5    1186\n",
       "D3    1173\n",
       "A1    1139\n",
       "D4     981\n",
       "D1     931\n",
       "D5     874\n",
       "E1     763\n",
       "E2     656\n",
       "E3     553\n",
       "E4     454\n",
       "E5     416\n",
       "F1     329\n",
       "F2     249\n",
       "F3     185\n",
       "F4     168\n",
       "F5     118\n",
       "G1     104\n",
       "G2      78\n",
       "G4      56\n",
       "G3      48\n",
       "G5      30\n",
       "Name: sub_grade, dtype: int64"
      ]
     },
     "execution_count": 51,
     "metadata": {},
     "output_type": "execute_result"
    }
   ],
   "source": [
    "loan.sub_grade.value_counts()"
   ]
  },
  {
   "cell_type": "markdown",
   "metadata": {},
   "source": [
    "##### emp_title is also categorical"
   ]
  },
  {
   "cell_type": "code",
   "execution_count": 52,
   "metadata": {},
   "outputs": [
    {
     "data": {
      "text/plain": [
       "Other                                       2460\n",
       "US Army                                      134\n",
       "Bank of America                              109\n",
       "IBM                                           66\n",
       "AT&T                                          59\n",
       "Kaiser Permanente                             56\n",
       "USAF                                          54\n",
       "Wells Fargo                                   54\n",
       "UPS                                           53\n",
       "US Air Force                                  52\n",
       "Walmart                                       45\n",
       "Lockheed Martin                               44\n",
       "United States Air Force                       42\n",
       "State of California                           42\n",
       "U.S. Army                                     41\n",
       "Verizon Wireless                              40\n",
       "Self Employed                                 40\n",
       "US ARMY                                       39\n",
       "USPS                                          39\n",
       "Walgreens                                     38\n",
       "JP Morgan Chase                               37\n",
       "Department of Defense                         36\n",
       "JPMorgan Chase                                36\n",
       "US Navy                                       35\n",
       "Self                                          35\n",
       "Target                                        35\n",
       "Booz Allen Hamilton                           34\n",
       "Northrop Grumman                              34\n",
       "Verizon                                       33\n",
       "United States Army                            33\n",
       "                                            ... \n",
       "Rails Dog LLC                                  1\n",
       "TVO North America                              1\n",
       "Nueces County Dept. Human Services             1\n",
       "NonPublic Educational Sevices                  1\n",
       "marist college                                 1\n",
       "Super 8 Hotel                                  1\n",
       "Malcolm Pirnie Inc                             1\n",
       "Lincoln Park Care Center                       1\n",
       "Oakwood hospital                               1\n",
       "Kenmore-Tonawanda Union Free School Dist       1\n",
       "The Law Office of Brian K. Ayson               1\n",
       "AFT                                            1\n",
       "Crawford tire                                  1\n",
       "Mater Lakes Academy                            1\n",
       "Dokken Engineering                             1\n",
       "HMB, Inc.                                      1\n",
       "Best Ford Inc                                  1\n",
       "Credit-Suisse                                  1\n",
       "Crawford Memorial Hospital                     1\n",
       "GCA Technology Services                        1\n",
       "MLB.COM                                        1\n",
       "neff studio salon                              1\n",
       "Gugino & Mortimer, PLC                         1\n",
       "ARKRAY                                         1\n",
       "AC 3                                           1\n",
       "Lady luck casino                               1\n",
       "Royal Processing Company, Inc.                 1\n",
       "Colorado Ballet                                1\n",
       "Akabas & Sproule                               1\n",
       "Human Services                                 1\n",
       "Name: emp_title, Length: 28820, dtype: int64"
      ]
     },
     "execution_count": 52,
     "metadata": {},
     "output_type": "execute_result"
    }
   ],
   "source": [
    "loan.emp_title.value_counts()"
   ]
  },
  {
   "cell_type": "markdown",
   "metadata": {},
   "source": [
    "##### emp_length has + sign and years prefixed"
   ]
  },
  {
   "cell_type": "code",
   "execution_count": 53,
   "metadata": {},
   "outputs": [
    {
     "data": {
      "text/plain": [
       "'10+ years'"
      ]
     },
     "execution_count": 53,
     "metadata": {},
     "output_type": "execute_result"
    }
   ],
   "source": [
    "loan.emp_length[0]"
   ]
  },
  {
   "cell_type": "code",
   "execution_count": 54,
   "metadata": {},
   "outputs": [
    {
     "data": {
      "text/plain": [
       "10+ years    8879\n",
       "< 1 year     4583\n",
       "2 years      4388\n",
       "3 years      4095\n",
       "4 years      3436\n",
       "5 years      3282\n",
       "1 year       3240\n",
       "6 years      2229\n",
       "7 years      1773\n",
       "8 years      1479\n",
       "9 years      1258\n",
       "Name: emp_length, dtype: int64"
      ]
     },
     "execution_count": 54,
     "metadata": {},
     "output_type": "execute_result"
    }
   ],
   "source": [
    "loan.emp_length.value_counts()"
   ]
  },
  {
   "cell_type": "code",
   "execution_count": 55,
   "metadata": {},
   "outputs": [
    {
     "data": {
      "text/plain": [
       "1075"
      ]
     },
     "execution_count": 55,
     "metadata": {},
     "output_type": "execute_result"
    }
   ],
   "source": [
    "loan['emp_length'].isnull().sum()"
   ]
  },
  {
   "cell_type": "code",
   "execution_count": 56,
   "metadata": {},
   "outputs": [],
   "source": [
    "def fix_emp_length(x):\n",
    "    try: \n",
    "        return int(x.replace('+','')\n",
    "                                                         .replace(' years','')\n",
    "                                                         .replace('< ','')\n",
    "                                                         .replace(' year','')\n",
    "                                                         .replace('n/a','0'))\n",
    "    except AttributeError:\n",
    "        return np.NaN\n",
    "\n",
    "loan['emp_length'] = loan.emp_length.apply(lambda x: fix_emp_length(x))"
   ]
  },
  {
   "cell_type": "code",
   "execution_count": 57,
   "metadata": {},
   "outputs": [
    {
     "data": {
      "text/plain": [
       "10.0    8879\n",
       "1.0     7823\n",
       "2.0     4388\n",
       "3.0     4095\n",
       "4.0     3436\n",
       "5.0     3282\n",
       "6.0     2229\n",
       "7.0     1773\n",
       "8.0     1479\n",
       "9.0     1258\n",
       "Name: emp_length, dtype: int64"
      ]
     },
     "execution_count": 57,
     "metadata": {},
     "output_type": "execute_result"
    }
   ],
   "source": [
    "loan.emp_length.value_counts()"
   ]
  },
  {
   "cell_type": "code",
   "execution_count": 58,
   "metadata": {},
   "outputs": [],
   "source": [
    "# loan['emp_length'] = loan.emp_length.apply(lambda x: int(x.replace('+','')\n",
    "#                                                          .replace(' years','')\n",
    "#                                                          .replace('< ','')\n",
    "#                                                          .replace(' year','')\n",
    "#                                                          .replace('n/a','0'))\n",
    "#                                         )\n",
    "# loan.emp_length.value_counts()"
   ]
  },
  {
   "cell_type": "markdown",
   "metadata": {},
   "source": [
    "##### home_ownership is categorical"
   ]
  },
  {
   "cell_type": "code",
   "execution_count": 59,
   "metadata": {},
   "outputs": [
    {
     "data": {
      "text/plain": [
       "RENT        18899\n",
       "MORTGAGE    17659\n",
       "OWN          3058\n",
       "OTHER          98\n",
       "NONE            3\n",
       "Name: home_ownership, dtype: int64"
      ]
     },
     "execution_count": 59,
     "metadata": {},
     "output_type": "execute_result"
    }
   ],
   "source": [
    "loan.home_ownership.value_counts()"
   ]
  },
  {
   "cell_type": "markdown",
   "metadata": {},
   "source": [
    "##### verification_status  is categorical"
   ]
  },
  {
   "cell_type": "code",
   "execution_count": 60,
   "metadata": {},
   "outputs": [
    {
     "data": {
      "text/plain": [
       "Not Verified       16921\n",
       "Verified           12809\n",
       "Source Verified     9987\n",
       "Name: verification_status, dtype: int64"
      ]
     },
     "execution_count": 60,
     "metadata": {},
     "output_type": "execute_result"
    }
   ],
   "source": [
    "loan.verification_status.value_counts()"
   ]
  },
  {
   "cell_type": "markdown",
   "metadata": {},
   "source": [
    "##### loan_status is categorical"
   ]
  },
  {
   "cell_type": "code",
   "execution_count": 61,
   "metadata": {},
   "outputs": [
    {
     "data": {
      "text/plain": [
       "Fully Paid     32950\n",
       "Charged Off     5627\n",
       "Current         1140\n",
       "Name: loan_status, dtype: int64"
      ]
     },
     "execution_count": 61,
     "metadata": {},
     "output_type": "execute_result"
    }
   ],
   "source": [
    "loan.loan_status.value_counts()"
   ]
  },
  {
   "cell_type": "markdown",
   "metadata": {},
   "source": [
    "##### url is categorical"
   ]
  },
  {
   "cell_type": "code",
   "execution_count": 62,
   "metadata": {},
   "outputs": [
    {
     "data": {
      "text/plain": [
       "array(['https://lendingclub.com/browse/loanDetail.action?loan_id=1077501',\n",
       "       'https://lendingclub.com/browse/loanDetail.action?loan_id=1077430',\n",
       "       'https://lendingclub.com/browse/loanDetail.action?loan_id=1077175',\n",
       "       ...,\n",
       "       'https://lendingclub.com/browse/loanDetail.action?loan_id=90395',\n",
       "       'https://lendingclub.com/browse/loanDetail.action?loan_id=90376',\n",
       "       'https://lendingclub.com/browse/loanDetail.action?loan_id=87023'],\n",
       "      dtype=object)"
      ]
     },
     "execution_count": 62,
     "metadata": {},
     "output_type": "execute_result"
    }
   ],
   "source": [
    "loan.url.unique()"
   ]
  },
  {
   "cell_type": "code",
   "execution_count": 63,
   "metadata": {},
   "outputs": [
    {
     "data": {
      "text/plain": [
       "1052670    1\n",
       "685540     1\n",
       "253425     1\n",
       "730606     1\n",
       "867821     1\n",
       "986603     1\n",
       "444881     1\n",
       "649578     1\n",
       "878054     1\n",
       "264792     1\n",
       "521684     1\n",
       "389504     1\n",
       "1007073    1\n",
       "1031645    1\n",
       "822747     1\n",
       "603127     1\n",
       "564697     1\n",
       "978391     1\n",
       "773619     1\n",
       "849396     1\n",
       "601033     1\n",
       "729368     1\n",
       "732687     1\n",
       "1058318    1\n",
       "867853     1\n",
       "865804     1\n",
       "722442     1\n",
       "663049     1\n",
       "595464     1\n",
       "732561     1\n",
       "          ..\n",
       "443826     1\n",
       "403199     1\n",
       "754469     1\n",
       "1028899    1\n",
       "506658     1\n",
       "500513     1\n",
       "868166     1\n",
       "744222     1\n",
       "553099     1\n",
       "475195     1\n",
       "465718     1\n",
       "1014586    1\n",
       "994128     1\n",
       "488251     1\n",
       "1037135    1\n",
       "543704     1\n",
       "705357     1\n",
       "523082     1\n",
       "387912     1\n",
       "602710     1\n",
       "891718     1\n",
       "492357     1\n",
       "741085     1\n",
       "637762     1\n",
       "582628     1\n",
       "807743     1\n",
       "1006398    1\n",
       "1000253    1\n",
       "871228     1\n",
       "380631     1\n",
       "Name: url, Length: 39717, dtype: int64"
      ]
     },
     "execution_count": 63,
     "metadata": {},
     "output_type": "execute_result"
    }
   ],
   "source": [
    "# Extracting information other than \"https://lendingclub.com/browse/loanDetail.action?loan_id=\"\n",
    "loan['url']= loan.url.apply(lambda x: int(x.replace('https://lendingclub.com/browse/loanDetail.action?loan_id=','')))\n",
    "loan.url.unique()\n",
    "loan.url.value_counts()"
   ]
  },
  {
   "cell_type": "markdown",
   "metadata": {},
   "source": [
    "After removing the url common path from the 'url' column, the column only contains unique identifiers. \n",
    "Hence we can remove this column from our analysis as we have also excluded 'id' and 'member_id' columns"
   ]
  },
  {
   "cell_type": "code",
   "execution_count": 64,
   "metadata": {},
   "outputs": [],
   "source": [
    "loan = loan.drop('url',axis=1)"
   ]
  },
  {
   "cell_type": "markdown",
   "metadata": {},
   "source": [
    "##### desc is categorical"
   ]
  },
  {
   "cell_type": "code",
   "execution_count": 65,
   "metadata": {},
   "outputs": [
    {
     "data": {
      "text/plain": [
       "array(['  Borrower added on 12/22/11 > I need to upgrade my business technologies.<br>',\n",
       "       '  Borrower added on 12/22/11 > I plan to use this money to finance the motorcycle i am looking at. I plan to have it paid off as soon as possible/when i sell my old bike. I only need this money because the deal im looking at is to good to pass up.<br><br>  Borrower added on 12/22/11 > I plan to use this money to finance the motorcycle i am looking at. I plan to have it paid off as soon as possible/when i sell my old bike.I only need this money because the deal im looking at is to good to pass up. I have finished college with an associates degree in business and its takingmeplaces<br>',\n",
       "       'Not Provided', ...,\n",
       "       'Our current gutter system on our home is old and in need of repair.    We will be using the borrowed funds to replace the gutter system on our home.',\n",
       "       'The rate of interest and fees incurred by carrying a balance on my credit card are so outrageous at this point that continuing to pay them is patently bad financial thinking.  I wish to redirect my efforts at retiring my debt via another more-reasonable means.    I have sufficient funds to direct to this end on a monthly basis, and have simply gotten tired of their being gobbled up by interest and fees.',\n",
       "       'I plan to consolidate over $7,000 of debt: a combination of credit cards and student loans.'],\n",
       "      dtype=object)"
      ]
     },
     "execution_count": 65,
     "metadata": {},
     "output_type": "execute_result"
    }
   ],
   "source": [
    "loan.desc.unique()"
   ]
  },
  {
   "cell_type": "markdown",
   "metadata": {},
   "source": [
    "We will convert 'desc' column to two values - Provided, Not Provided. As the analysis can be done based on whether a description was provided during the loan application or not"
   ]
  },
  {
   "cell_type": "code",
   "execution_count": 66,
   "metadata": {},
   "outputs": [
    {
     "data": {
      "text/plain": [
       "Provided        26777\n",
       "Not Provided    12940\n",
       "Name: desc, dtype: int64"
      ]
     },
     "execution_count": 66,
     "metadata": {},
     "output_type": "execute_result"
    }
   ],
   "source": [
    "# def func(x):\n",
    "#     if x=='Not Provided':\n",
    "#         return x\n",
    "#     else return 'Provided'\n",
    "loan['desc'] = loan.desc.apply(lambda x: x if (x=='Not Provided') else 'Provided')\n",
    "loan.desc.value_counts()"
   ]
  },
  {
   "cell_type": "markdown",
   "metadata": {},
   "source": [
    "##### purpose is categorical"
   ]
  },
  {
   "cell_type": "code",
   "execution_count": 67,
   "metadata": {},
   "outputs": [
    {
     "data": {
      "text/plain": [
       "debt_consolidation    18641\n",
       "credit_card            5130\n",
       "other                  3993\n",
       "home_improvement       2976\n",
       "major_purchase         2187\n",
       "small_business         1828\n",
       "car                    1549\n",
       "wedding                 947\n",
       "medical                 693\n",
       "moving                  583\n",
       "vacation                381\n",
       "house                   381\n",
       "educational             325\n",
       "renewable_energy        103\n",
       "Name: purpose, dtype: int64"
      ]
     },
     "execution_count": 67,
     "metadata": {},
     "output_type": "execute_result"
    }
   ],
   "source": [
    "loan.purpose.value_counts()"
   ]
  },
  {
   "cell_type": "markdown",
   "metadata": {},
   "source": [
    "##### title is categorical"
   ]
  },
  {
   "cell_type": "code",
   "execution_count": 68,
   "metadata": {},
   "outputs": [
    {
     "data": {
      "text/plain": [
       "Debt Consolidation                          2184\n",
       "Debt Consolidation Loan                     1729\n",
       "Personal Loan                                659\n",
       "Consolidation                                517\n",
       "debt consolidation                           505\n",
       "Credit Card Consolidation                    356\n",
       "Home Improvement                             356\n",
       "Debt consolidation                           334\n",
       "Small Business Loan                          328\n",
       "Credit Card Loan                             317\n",
       "Personal                                     308\n",
       "Consolidation Loan                           255\n",
       "Home Improvement Loan                        247\n",
       "personal loan                                234\n",
       "personal                                     220\n",
       "Loan                                         213\n",
       "Wedding Loan                                 208\n",
       "consolidation                                205\n",
       "Car Loan                                     204\n",
       "Other Loan                                   191\n",
       "Credit Card Payoff                           154\n",
       "Wedding                                      154\n",
       "Major Purchase Loan                          145\n",
       "Credit Card Refinance                        144\n",
       "Consolidate                                  126\n",
       "Medical                                      122\n",
       "Credit Card                                  118\n",
       "home improvement                             111\n",
       "Credit Cards                                  93\n",
       "My Loan                                       93\n",
       "                                            ... \n",
       "Wipe out debt to make savings begin!           1\n",
       "Proven Borrower with Strong Track Record       1\n",
       "For investments                                1\n",
       "Trying to get a new PC                         1\n",
       "improvment                                     1\n",
       "Medical Transcriptionist Course Fees           1\n",
       "bail me out loan                               1\n",
       "Debt cosilidation                              1\n",
       "Help with Moving                               1\n",
       "Protect Dad Loan                               1\n",
       "Debs consolidation                             1\n",
       "Student loan debt consolidation                1\n",
       "Repeater                                       1\n",
       "To help my brother                             1\n",
       "finacial freedom loan                          1\n",
       "pay it off dave 2011                           1\n",
       "Tavern Capital                                 1\n",
       "Car financing                                  1\n",
       "Operation Wedding                              1\n",
       "Unexpected car repairs                         1\n",
       "private owner car purchase                     1\n",
       "High Interest Credit Card Debt                 1\n",
       "Financial Overhaul                             1\n",
       "Family getaway                                 1\n",
       "Getting rid of the plastic                     1\n",
       "Freedom from debt!                             1\n",
       "FLIGHT loan                                    1\n",
       "Emergency Dental Work                          1\n",
       "Better gas consumption                         1\n",
       "Credit Card repayment                          1\n",
       "Name: title, Length: 19616, dtype: int64"
      ]
     },
     "execution_count": 68,
     "metadata": {},
     "output_type": "execute_result"
    }
   ],
   "source": [
    "loan.title.value_counts()"
   ]
  },
  {
   "cell_type": "markdown",
   "metadata": {},
   "source": [
    "##### zip_code is categorical"
   ]
  },
  {
   "cell_type": "code",
   "execution_count": 69,
   "metadata": {},
   "outputs": [
    {
     "data": {
      "text/plain": [
       "array(['860xx', '309xx', '606xx', '917xx', '972xx', '852xx', '280xx',\n",
       "       '900xx', '958xx', '774xx', '853xx', '913xx', '245xx', '951xx',\n",
       "       '641xx', '921xx', '067xx', '890xx', '770xx', '335xx', '799xx',\n",
       "       '605xx', '103xx', '150xx', '326xx', '564xx', '141xx', '080xx',\n",
       "       '330xx', '974xx', '934xx', '405xx', '946xx', '445xx', '850xx',\n",
       "       '604xx', '292xx', '088xx', '180xx', '029xx', '700xx', '010xx',\n",
       "       '441xx', '104xx', '061xx', '616xx', '947xx', '914xx', '765xx',\n",
       "       '980xx', '017xx', '752xx', '787xx', '077xx', '540xx', '225xx',\n",
       "       '440xx', '437xx', '559xx', '912xx', '325xx', '300xx', '923xx',\n",
       "       '352xx', '013xx', '146xx', '074xx', '786xx', '937xx', '331xx',\n",
       "       '115xx', '191xx', '114xx', '908xx', '902xx', '992xx', '750xx',\n",
       "       '950xx', '329xx', '226xx', '614xx', '802xx', '672xx', '083xx',\n",
       "       '100xx', '926xx', '931xx', '712xx', '060xx', '707xx', '342xx',\n",
       "       '895xx', '430xx', '919xx', '996xx', '891xx', '935xx', '801xx',\n",
       "       '928xx', '233xx', '927xx', '970xx', '211xx', '303xx', '070xx',\n",
       "       '194xx', '263xx', '403xx', '301xx', '553xx', '993xx', '312xx',\n",
       "       '432xx', '602xx', '216xx', '151xx', '971xx', '305xx', '334xx',\n",
       "       '050xx', '129xx', '925xx', '483xx', '760xx', '961xx', '200xx',\n",
       "       '085xx', '981xx', '601xx', '117xx', '063xx', '920xx', '543xx',\n",
       "       '775xx', '570xx', '038xx', '221xx', '985xx', '113xx', '275xx',\n",
       "       '236xx', '148xx', '028xx', '450xx', '532xx', '729xx', '321xx',\n",
       "       '959xx', '941xx', '955xx', '217xx', '880xx', '660xx', '062xx',\n",
       "       '193xx', '761xx', '857xx', '306xx', '271xx', '142xx', '956xx',\n",
       "       '983xx', '945xx', '109xx', '112xx', '187xx', '630xx', '435xx',\n",
       "       '488xx', '287xx', '705xx', '592xx', '318xx', '549xx', '212xx',\n",
       "       '347xx', '274xx', '265xx', '785xx', '027xx', '089xx', '813xx',\n",
       "       '069xx', '260xx', '201xx', '349xx', '322xx', '075xx', '124xx',\n",
       "       '940xx', '967xx', '111xx', '773xx', '997xx', '076xx', '538xx',\n",
       "       '021xx', '304xx', '234xx', '308xx', '809xx', '071xx', '363xx',\n",
       "       '296xx', '240xx', '830xx', '011xx', '622xx', '207xx', '140xx',\n",
       "       '336xx', '619xx', '208xx', '618xx', '014xx', '644xx', '283xx',\n",
       "       '276xx', '631xx', '243xx', '960xx', '181xx', '922xx', '224xx',\n",
       "       '975xx', '105xx', '986xx', '218xx', '652xx', '782xx', '410xx',\n",
       "       '480xx', '328xx', '719xx', '982xx', '065xx', '081xx', '954xx',\n",
       "       '346xx', '442xx', '025xx', '122xx', '173xx', '282xx', '120xx',\n",
       "       '082xx', '766xx', '229xx', '840xx', '744xx', '933xx', '451xx',\n",
       "       '907xx', '728xx', '159xx', '333xx', '293xx', '701xx', '984xx',\n",
       "       '811xx', '597xx', '957xx', '165xx', '720xx', '119xx', '359xx',\n",
       "       '195xx', '084xx', '969xx', '924xx', '531xx', '716xx', '337xx',\n",
       "       '841xx', '323xx', '740xx', '179xx', '805xx', '285xx', '551xx',\n",
       "       '658xx', '944xx', '232xx', '905xx', '600xx', '327xx', '711xx',\n",
       "       '906xx', '444xx', '856xx', '777xx', '072xx', '554xx', '145xx',\n",
       "       '537xx', '152xx', '847xx', '295xx', '829xx', '320xx', '131xx',\n",
       "       '939xx', '572xx', '281xx', '064xx', '550xx', '078xx', '452xx',\n",
       "       '778xx', '313xx', '851xx', '784xx', '804xx', '571xx', '210xx',\n",
       "       '988xx', '400xx', '995xx', '023xx', '158xx', '657xx', '016xx',\n",
       "       '019xx', '290xx', '190xx', '366xx', '066xx', '991xx', '968xx',\n",
       "       '721xx', '439xx', '640xx', '546xx', '024xx', '751xx', '431xx',\n",
       "       '741xx', '904xx', '156xx', '316xx', '299xx', '087xx', '739xx',\n",
       "       '949xx', '261xx', '073xx', '222xx', '244xx', '617xx', '018xx',\n",
       "       '286xx', '759xx', '952xx', '930xx', '911xx', '220xx', '731xx',\n",
       "       '730xx', '262xx', '338xx', '160xx', '031xx', '054xx', '223xx',\n",
       "       '272xx', '882xx', '557xx', '797xx', '725xx', '130xx', '030xx',\n",
       "       '206xx', '324xx', '170xx', '291xx', '161xx', '647xx', '916xx',\n",
       "       '665xx', '209xx', '915xx', '110xx', '086xx', '484xx', '844xx',\n",
       "       '020xx', '354xx', '448xx', '978xx', '757xx', '953xx', '577xx',\n",
       "       '315xx', '664xx', '186xx', '182xx', '574xx', '800xx', '197xx',\n",
       "       '137xx', '314xx', '755xx', '973xx', '603xx', '481xx', '780xx',\n",
       "       '894xx', '341xx', '361xx', '178xx', '068xx', '565xx', '611xx',\n",
       "       '288xx', '443xx', '662xx', '874xx', '560xx', '535xx', '499xx',\n",
       "       '162xx', '756xx', '168xx', '827xx', '541xx', '615xx', '989xx',\n",
       "       '037xx', '863xx', '339xx', '367xx', '273xx', '052xx', '623xx',\n",
       "       '416xx', '648xx', '918xx', '436xx', '898xx', '674xx', '496xx',\n",
       "       '294xx', '762xx', '128xx', '903xx', '932xx', '650xx', '246xx',\n",
       "       '633xx', '666xx', '228xx', '015xx', '302xx', '573xx', '118xx',\n",
       "       '998xx', '767xx', '490xx', '350xx', '591xx', '254xx', '566xx',\n",
       "       '596xx', '637xx', '032xx', '763xx', '494xx', '402xx', '545xx',\n",
       "       '184xx', '239xx', '977xx', '297xx', '284xx', '144xx', '748xx',\n",
       "       '310xx', '147xx', '153xx', '544xx', '948xx', '576xx', '976xx',\n",
       "       '107xx', '846xx', '344xx', '351xx', '754xx', '910xx', '656xx',\n",
       "       '357xx', '791xx', '493xx', '855xx', '278xx', '125xx', '175xx',\n",
       "       '530xx', '171xx', '703xx', '620xx', '438xx', '626xx', '307xx',\n",
       "       '636xx', '319xx', '116xx', '645xx', '708xx', '816xx', '625xx',\n",
       "       '133xx', '612xx', '238xx', '166xx', '231xx', '241xx', '826xx',\n",
       "       '783xx', '793xx', '646xx', '188xx', '108xx', '653xx', '871xx',\n",
       "       '057xx', '796xx', '990xx', '219xx', '724xx', '456xx', '214xx',\n",
       "       '237xx', '737xx', '121xx', '199xx', '548xx', '453xx', '704xx',\n",
       "       '368xx', '828xx', '598xx', '136xx', '610xx', '433xx', '722xx',\n",
       "       '743xx', '810xx', '706xx', '235xx', '139xx', '613xx', '454xx',\n",
       "       '317xx', '746xx', '446xx', '486xx', '033xx', '279xx', '407xx',\n",
       "       '803xx', '794xx', '457xx', '189xx', '196xx', '539xx', '424xx',\n",
       "       '492xx', '482xx', '667xx', '845xx', '608xx', '401xx', '362xx',\n",
       "       '627xx', '717xx', '356xx', '607xx', '963xx', '198xx', '936xx',\n",
       "       '713xx', '227xx', '883xx', '563xx', '893xx', '079xx', '806xx',\n",
       "       '360xx', '172xx', '422xx', '768xx', '034xx', '735xx', '870xx',\n",
       "       '012xx', '594xx', '215xx', '628xx', '749xx', '101xx', '814xx',\n",
       "       '255xx', '745xx', '495xx', '132xx', '183xx', '864xx', '106xx',\n",
       "       '663xx', '943xx', '094xx', '177xx', '365xx', '897xx', '776xx',\n",
       "       '843xx', '458xx', '421xx', '253xx', '795xx', '727xx', '528xx',\n",
       "       '270xx', '808xx', '277xx', '447xx', '358xx', '815xx', '250xx',\n",
       "       '230xx', '790xx', '884xx', '242xx', '534xx', '404xx', '397xx',\n",
       "       '434xx', '671xx', '655xx', '675xx', '053xx', '859xx', '126xx',\n",
       "       '102xx', '256xx', '673xx', '489xx', '258xx', '423xx', '497xx',\n",
       "       '788xx', '127xx', '176xx', '380xx', '058xx', '635xx', '498xx',\n",
       "       '820xx', '599xx', '822xx', '638xx', '723xx', '449xx', '420xx',\n",
       "       '157xx', '726xx', '185xx', '527xx', '298xx', '769xx', '257xx',\n",
       "       '881xx', '575xx', '624xx', '134xx', '877xx', '781xx', '718xx',\n",
       "       '670xx', '138xx', '026xx', '678xx', '398xx', '411xx', '149xx',\n",
       "       '247xx', '875xx', '838xx', '651xx', '364xx', '203xx', '427xx',\n",
       "       '629xx', '355xx', '174xx', '547xx', '567xx', '558xx', '135xx',\n",
       "       '035xx', '999xx', '634xx', '455xx', '143xx', '154xx', '562xx',\n",
       "       '779xx', '561xx', '734xx', '789xx', '812xx', '268xx', '051xx',\n",
       "       '865xx', '406xx', '661xx', '758xx', '676xx', '491xx', '267xx',\n",
       "       '609xx', '595xx', '259xx', '163xx', '264xx', '409xx', '376xx',\n",
       "       '471xx', '375xx', '747xx', '123xx', '714xx', '590xx', '639xx',\n",
       "       '412xx', '425xx', '022xx', '369xx', '164xx', '825xx', '266xx',\n",
       "       '096xx', '487xx', '251xx', '593xx', '169xx', '413xx', '155xx',\n",
       "       '764xx', '710xx', '408xx', '668xx', '056xx', '669xx', '167xx',\n",
       "       '542xx', '679xx', '462xx', '792xx', '824xx', '249xx', '798xx',\n",
       "       '370xx', '485xx', '654xx', '289xx', '807xx', '252xx', '556xx',\n",
       "       '353xx', '677xx', '090xx', '371xx', '831xx', '736xx', '007xx',\n",
       "       '332xx', '468xx', '461xx', '093xx', '248xx', '463xx', '391xx',\n",
       "       '381xx', '415xx', '378xx', '414xx', '396xx', '836xx', '044xx',\n",
       "       '392xx', '772xx', '374xx', '823xx', '395xx', '394xx', '965xx',\n",
       "       '390xx', '388xx', '386xx', '040xx', '385xx', '379xx', '681xx',\n",
       "       '837xx', '373xx', '753xx', '834xx', '383xx', '384xx', '372xx',\n",
       "       '833xx', '522xx', '523xx', '474xx', '465xx', '689xx', '473xx',\n",
       "       '041xx', '685xx', '479xx', '469xx'], dtype=object)"
      ]
     },
     "execution_count": 69,
     "metadata": {},
     "output_type": "execute_result"
    }
   ],
   "source": [
    "loan.zip_code.unique()"
   ]
  },
  {
   "cell_type": "code",
   "execution_count": 70,
   "metadata": {},
   "outputs": [
    {
     "data": {
      "text/plain": [
       "array(['860', '309', '606', '917', '972', '852', '280', '900', '958',\n",
       "       '774', '853', '913', '245', '951', '641', '921', '067', '890',\n",
       "       '770', '335', '799', '605', '103', '150', '326', '564', '141',\n",
       "       '080', '330', '974', '934', '405', '946', '445', '850', '604',\n",
       "       '292', '088', '180', '029', '700', '010', '441', '104', '061',\n",
       "       '616', '947', '914', '765', '980', '017', '752', '787', '077',\n",
       "       '540', '225', '440', '437', '559', '912', '325', '300', '923',\n",
       "       '352', '013', '146', '074', '786', '937', '331', '115', '191',\n",
       "       '114', '908', '902', '992', '750', '950', '329', '226', '614',\n",
       "       '802', '672', '083', '100', '926', '931', '712', '060', '707',\n",
       "       '342', '895', '430', '919', '996', '891', '935', '801', '928',\n",
       "       '233', '927', '970', '211', '303', '070', '194', '263', '403',\n",
       "       '301', '553', '993', '312', '432', '602', '216', '151', '971',\n",
       "       '305', '334', '050', '129', '925', '483', '760', '961', '200',\n",
       "       '085', '981', '601', '117', '063', '920', '543', '775', '570',\n",
       "       '038', '221', '985', '113', '275', '236', '148', '028', '450',\n",
       "       '532', '729', '321', '959', '941', '955', '217', '880', '660',\n",
       "       '062', '193', '761', '857', '306', '271', '142', '956', '983',\n",
       "       '945', '109', '112', '187', '630', '435', '488', '287', '705',\n",
       "       '592', '318', '549', '212', '347', '274', '265', '785', '027',\n",
       "       '089', '813', '069', '260', '201', '349', '322', '075', '124',\n",
       "       '940', '967', '111', '773', '997', '076', '538', '021', '304',\n",
       "       '234', '308', '809', '071', '363', '296', '240', '830', '011',\n",
       "       '622', '207', '140', '336', '619', '208', '618', '014', '644',\n",
       "       '283', '276', '631', '243', '960', '181', '922', '224', '975',\n",
       "       '105', '986', '218', '652', '782', '410', '480', '328', '719',\n",
       "       '982', '065', '081', '954', '346', '442', '025', '122', '173',\n",
       "       '282', '120', '082', '766', '229', '840', '744', '933', '451',\n",
       "       '907', '728', '159', '333', '293', '701', '984', '811', '597',\n",
       "       '957', '165', '720', '119', '359', '195', '084', '969', '924',\n",
       "       '531', '716', '337', '841', '323', '740', '179', '805', '285',\n",
       "       '551', '658', '944', '232', '905', '600', '327', '711', '906',\n",
       "       '444', '856', '777', '072', '554', '145', '537', '152', '847',\n",
       "       '295', '829', '320', '131', '939', '572', '281', '064', '550',\n",
       "       '078', '452', '778', '313', '851', '784', '804', '571', '210',\n",
       "       '988', '400', '995', '023', '158', '657', '016', '019', '290',\n",
       "       '190', '366', '066', '991', '968', '721', '439', '640', '546',\n",
       "       '024', '751', '431', '741', '904', '156', '316', '299', '087',\n",
       "       '739', '949', '261', '073', '222', '244', '617', '018', '286',\n",
       "       '759', '952', '930', '911', '220', '731', '730', '262', '338',\n",
       "       '160', '031', '054', '223', '272', '882', '557', '797', '725',\n",
       "       '130', '030', '206', '324', '170', '291', '161', '647', '916',\n",
       "       '665', '209', '915', '110', '086', '484', '844', '020', '354',\n",
       "       '448', '978', '757', '953', '577', '315', '664', '186', '182',\n",
       "       '574', '800', '197', '137', '314', '755', '973', '603', '481',\n",
       "       '780', '894', '341', '361', '178', '068', '565', '611', '288',\n",
       "       '443', '662', '874', '560', '535', '499', '162', '756', '168',\n",
       "       '827', '541', '615', '989', '037', '863', '339', '367', '273',\n",
       "       '052', '623', '416', '648', '918', '436', '898', '674', '496',\n",
       "       '294', '762', '128', '903', '932', '650', '246', '633', '666',\n",
       "       '228', '015', '302', '573', '118', '998', '767', '490', '350',\n",
       "       '591', '254', '566', '596', '637', '032', '763', '494', '402',\n",
       "       '545', '184', '239', '977', '297', '284', '144', '748', '310',\n",
       "       '147', '153', '544', '948', '576', '976', '107', '846', '344',\n",
       "       '351', '754', '910', '656', '357', '791', '493', '855', '278',\n",
       "       '125', '175', '530', '171', '703', '620', '438', '626', '307',\n",
       "       '636', '319', '116', '645', '708', '816', '625', '133', '612',\n",
       "       '238', '166', '231', '241', '826', '783', '793', '646', '188',\n",
       "       '108', '653', '871', '057', '796', '990', '219', '724', '456',\n",
       "       '214', '237', '737', '121', '199', '548', '453', '704', '368',\n",
       "       '828', '598', '136', '610', '433', '722', '743', '810', '706',\n",
       "       '235', '139', '613', '454', '317', '746', '446', '486', '033',\n",
       "       '279', '407', '803', '794', '457', '189', '196', '539', '424',\n",
       "       '492', '482', '667', '845', '608', '401', '362', '627', '717',\n",
       "       '356', '607', '963', '198', '936', '713', '227', '883', '563',\n",
       "       '893', '079', '806', '360', '172', '422', '768', '034', '735',\n",
       "       '870', '012', '594', '215', '628', '749', '101', '814', '255',\n",
       "       '745', '495', '132', '183', '864', '106', '663', '943', '094',\n",
       "       '177', '365', '897', '776', '843', '458', '421', '253', '795',\n",
       "       '727', '528', '270', '808', '277', '447', '358', '815', '250',\n",
       "       '230', '790', '884', '242', '534', '404', '397', '434', '671',\n",
       "       '655', '675', '053', '859', '126', '102', '256', '673', '489',\n",
       "       '258', '423', '497', '788', '127', '176', '380', '058', '635',\n",
       "       '498', '820', '599', '822', '638', '723', '449', '420', '157',\n",
       "       '726', '185', '527', '298', '769', '257', '881', '575', '624',\n",
       "       '134', '877', '781', '718', '670', '138', '026', '678', '398',\n",
       "       '411', '149', '247', '875', '838', '651', '364', '203', '427',\n",
       "       '629', '355', '174', '547', '567', '558', '135', '035', '999',\n",
       "       '634', '455', '143', '154', '562', '779', '561', '734', '789',\n",
       "       '812', '268', '051', '865', '406', '661', '758', '676', '491',\n",
       "       '267', '609', '595', '259', '163', '264', '409', '376', '471',\n",
       "       '375', '747', '123', '714', '590', '639', '412', '425', '022',\n",
       "       '369', '164', '825', '266', '096', '487', '251', '593', '169',\n",
       "       '413', '155', '764', '710', '408', '668', '056', '669', '167',\n",
       "       '542', '679', '462', '792', '824', '249', '798', '370', '485',\n",
       "       '654', '289', '807', '252', '556', '353', '677', '090', '371',\n",
       "       '831', '736', '007', '332', '468', '461', '093', '248', '463',\n",
       "       '391', '381', '415', '378', '414', '396', '836', '044', '392',\n",
       "       '772', '374', '823', '395', '394', '965', '390', '388', '386',\n",
       "       '040', '385', '379', '681', '837', '373', '753', '834', '383',\n",
       "       '384', '372', '833', '522', '523', '474', '465', '689', '473',\n",
       "       '041', '685', '479', '469'], dtype=object)"
      ]
     },
     "execution_count": 70,
     "metadata": {},
     "output_type": "execute_result"
    }
   ],
   "source": [
    "#changing zip_code column to zip_code_first3 and removing xx \n",
    "loan['zip_code_first3']= loan.zip_code.apply(lambda x: x.rstrip('xx'))\n",
    "loan.zip_code_first3.unique()"
   ]
  },
  {
   "cell_type": "markdown",
   "metadata": {},
   "source": [
    "##### addre_state is categorical"
   ]
  },
  {
   "cell_type": "code",
   "execution_count": 71,
   "metadata": {},
   "outputs": [
    {
     "data": {
      "text/plain": [
       "array(['AZ', 'GA', 'IL', 'CA', 'OR', 'NC', 'TX', 'VA', 'MO', 'CT', 'UT',\n",
       "       'FL', 'NY', 'PA', 'MN', 'NJ', 'KY', 'OH', 'SC', 'RI', 'LA', 'MA',\n",
       "       'WA', 'WI', 'AL', 'CO', 'KS', 'NV', 'AK', 'MD', 'WV', 'VT', 'MI',\n",
       "       'DC', 'SD', 'NH', 'AR', 'NM', 'MT', 'HI', 'WY', 'OK', 'DE', 'MS',\n",
       "       'TN', 'IA', 'NE', 'ID', 'IN', 'ME'], dtype=object)"
      ]
     },
     "execution_count": 71,
     "metadata": {},
     "output_type": "execute_result"
    }
   ],
   "source": [
    "loan.addr_state.unique()"
   ]
  },
  {
   "cell_type": "markdown",
   "metadata": {},
   "source": [
    "##### earlier_cr_line is categorical"
   ]
  },
  {
   "cell_type": "code",
   "execution_count": 72,
   "metadata": {},
   "outputs": [
    {
     "data": {
      "text/plain": [
       "array(['Jan-85', 'Apr-99', 'Nov-01', 'Feb-96', 'Jan-96', 'Nov-04',\n",
       "       'Jul-05', 'Jan-07', 'Apr-04', 'Sep-04', 'Jan-98', 'Oct-89',\n",
       "       'Jul-03', 'May-91', 'Sep-07', 'Oct-98', 'Aug-93', 'Oct-03',\n",
       "       'Jan-01', 'Nov-97', 'Feb-83', 'Jul-85', 'Apr-03', 'Jun-01',\n",
       "       'Feb-02', 'Aug-84', 'Nov-06', 'Dec-87', 'Nov-81', 'Feb-97',\n",
       "       'Apr-05', 'Oct-07', 'Dec-00', 'Apr-07', 'Dec-01', 'Jan-03',\n",
       "       'Mar-94', 'Sep-98', 'Jun-04', 'Nov-95', 'Jul-99', 'Jun-95',\n",
       "       'Sep-92', 'Jan-02', 'Apr-92', 'Oct-06', 'May-00', 'Dec-98',\n",
       "       'Dec-04', 'Oct-00', 'May-02', 'May-06', 'Jul-02', 'Jul-06',\n",
       "       'May-97', 'Oct-05', 'Apr-95', 'Oct-02', 'Jan-00', 'Apr-00',\n",
       "       'Dec-94', 'Sep-05', 'Dec-84', 'Dec-99', 'Nov-03', 'Jun-89',\n",
       "       'Jun-03', 'Oct-96', 'May-03', 'Jun-02', 'Jun-07', 'Dec-96',\n",
       "       'Feb-84', 'Sep-02', 'Jan-86', 'May-98', 'Jan-97', 'Jun-05',\n",
       "       'Feb-90', 'Mar-04', 'Jul-95', 'Aug-94', 'Jun-92', 'Mar-97',\n",
       "       'Apr-06', 'Apr-90', 'Aug-99', 'Sep-00', 'Feb-01', 'Dec-88',\n",
       "       'Feb-99', 'Dec-91', 'Aug-00', 'Oct-04', 'Aug-04', 'Feb-05',\n",
       "       'Nov-05', 'Nov-00', 'May-07', 'Jan-91', 'Jun-00', 'Aug-06',\n",
       "       'Dec-02', 'Jun-93', 'Jun-06', 'Feb-04', 'Dec-90', 'Mar-00',\n",
       "       'Feb-95', 'Jul-01', 'Apr-02', 'Sep-06', 'May-99', 'Aug-98',\n",
       "       'Dec-05', 'May-04', 'Oct-01', 'Jun-83', 'Mar-86', 'Apr-80',\n",
       "       'Jul-04', 'Jul-08', 'May-96', 'Jan-04', 'Nov-02', 'Aug-02',\n",
       "       'Aug-01', 'Mar-91', 'Sep-89', 'Sep-94', 'Sep-03', 'Sep-99',\n",
       "       'Aug-05', 'Dec-86', 'Nov-98', 'Feb-06', 'May-94', 'Nov-07',\n",
       "       'Feb-93', 'Nov-91', 'May-05', 'Dec-73', 'May-01', 'Mar-90',\n",
       "       'Mar-96', 'Oct-79', 'Jun-81', 'Mar-01', 'Apr-01', 'Jun-99',\n",
       "       'Nov-93', 'Jan-06', 'Dec-97', 'Nov-94', 'Jul-97', 'Oct-91',\n",
       "       'Jun-94', 'Mar-06', 'Sep-96', 'Apr-91', 'Jul-93', 'Jan-95',\n",
       "       'Sep-87', 'Mar-03', 'Oct-99', 'Jul-96', 'Dec-03', 'Aug-88',\n",
       "       'Jan-92', 'Mar-98', 'Feb-07', 'Aug-82', 'Mar-95', 'Dec-92',\n",
       "       'Jul-98', 'Jul-89', 'May-90', 'Jul-94', 'Sep-01', 'Mar-84',\n",
       "       'Aug-03', 'Nov-99', 'Mar-07', 'Mar-08', 'Apr-94', 'Jan-05',\n",
       "       'Jul-86', 'Aug-90', 'May-92', 'Jul-00', 'Mar-88', 'May-83',\n",
       "       'Apr-93', 'Jul-78', 'Feb-00', 'Dec-81', 'Mar-92', 'Jan-81',\n",
       "       'Sep-90', 'Jun-98', 'May-93', 'Nov-96', 'Mar-02', 'Jan-88',\n",
       "       'Aug-97', 'Aug-87', 'Aug-08', 'Oct-94', 'Oct-86', 'Feb-94',\n",
       "       'Jun-96', 'Feb-98', 'Nov-08', 'Apr-98', 'Jul-79', 'Jan-93',\n",
       "       'May-87', 'Jul-71', 'Aug-07', 'Jun-97', 'Mar-80', 'Dec-06',\n",
       "       'Jul-07', 'Oct-95', 'Jul-91', 'Jul-92', 'Dec-72', 'Dec-93',\n",
       "       'Jan-99', 'Feb-03', 'Apr-97', 'Dec-95', 'Apr-96', 'Jul-90',\n",
       "       'Mar-70', 'Nov-84', 'Apr-84', 'Jul-84', 'Aug-95', 'Mar-99',\n",
       "       'Sep-88', 'Mar-89', 'Mar-87', 'Oct-97', 'Dec-80', 'Jan-94',\n",
       "       'Sep-95', 'Mar-05', 'Jan-89', 'Feb-92', 'Jan-90', 'Nov-90',\n",
       "       'Mar-69', 'Jun-75', 'Mar-85', 'Dec-07', 'Oct-93', 'Dec-89',\n",
       "       'Sep-80', 'Jun-88', 'May-78', 'Apr-73', 'Aug-89', 'Oct-90',\n",
       "       'Sep-91', 'Feb-82', 'Feb-87', 'Nov-85', 'Jan-84', 'Jul-88',\n",
       "       'May-08', 'Oct-85', 'Mar-83', 'Aug-91', 'Sep-86', 'Jun-90',\n",
       "       'Feb-86', 'Sep-97', 'Jun-84', 'Sep-81', 'Apr-86', 'Aug-79',\n",
       "       'Aug-80', 'Nov-92', 'Sep-93', 'Jun-87', 'Sep-82', 'Aug-92',\n",
       "       'Aug-85', 'Jul-83', 'Jun-91', 'Dec-83', 'Jan-87', 'Nov-78',\n",
       "       'Oct-84', 'Aug-96', 'Nov-89', 'Sep-76', 'Nov-86', 'Oct-87',\n",
       "       'Sep-08', 'May-77', 'May-86', 'Mar-81', 'Jan-83', 'Nov-76',\n",
       "       'Sep-79', 'Oct-83', 'Sep-62', 'Jun-85', 'May-82', 'Feb-88',\n",
       "       'Oct-92', 'Aug-83', 'Jun-73', 'Apr-85', 'Oct-88', 'Oct-81',\n",
       "       'Sep-68', 'Jul-74', 'Nov-87', 'May-95', 'Feb-91', 'Nov-88',\n",
       "       'Mar-93', 'Jun-08', 'Jul-80', 'Dec-82', 'Mar-75', 'Feb-80',\n",
       "       'Apr-88', 'Dec-79', 'Sep-85', 'Sep-71', 'Mar-78', 'Feb-08',\n",
       "       'Aug-78', 'Nov-70', 'Jun-79', 'Jun-80', 'Apr-89', 'Sep-83',\n",
       "       'Feb-89', 'Nov-83', 'Jun-86', 'Oct-82', 'Aug-86', 'Oct-80',\n",
       "       'May-88', 'Dec-85', 'Jan-82', 'Sep-77', 'Dec-76', 'Apr-82',\n",
       "       'May-84', 'Apr-08', 'Feb-79', 'Jan-08', 'Sep-64', 'Jul-87',\n",
       "       'Jan-78', 'May-89', 'Oct-77', 'Dec-75', 'Feb-85', 'Oct-08',\n",
       "       'Nov-82', 'May-75', 'May-85', 'Feb-71', 'Jun-77', 'Apr-81',\n",
       "       'May-79', 'Jan-72', 'Sep-67', 'Apr-78', 'Feb-65', 'Apr-83',\n",
       "       'Nov-75', 'Jun-67', 'Mar-74', 'Jul-72', 'Aug-67', 'Apr-71',\n",
       "       'Sep-84', 'May-81', 'Dec-70', 'Oct-73', 'Jan-71', 'Dec-63',\n",
       "       'Apr-74', 'Jan-80', 'Aug-69', 'Apr-75', 'Jul-77', 'Mar-77',\n",
       "       'Nov-69', 'Jan-76', 'Mar-82', 'Apr-87', 'Dec-69', 'May-74',\n",
       "       'Aug-74', 'Jun-72', 'Mar-63', 'Nov-79', 'Aug-75', 'Sep-74',\n",
       "       'Aug-81', 'May-73', 'Sep-73', 'Mar-73', 'Dec-77', 'Oct-76',\n",
       "       'Jan-74', 'Jan-70', 'Aug-68', 'Feb-76', 'Jan-75', 'Oct-72',\n",
       "       'Dec-74', 'Feb-73', 'Nov-65', 'Mar-72', 'Jun-82', 'Jun-74',\n",
       "       'May-65', 'Jun-71', 'Oct-70', 'Apr-76', 'Oct-71', 'Apr-77',\n",
       "       'Sep-78', 'Oct-78', 'Oct-54', 'Feb-81', 'Jan-77', 'Aug-77',\n",
       "       'Dec-78', 'Aug-76', 'Jun-68', 'Jun-78', 'Jun-69', 'May-80',\n",
       "       'Jan-79', 'Oct-65', 'Nov-74', 'Apr-66', 'Jun-76', 'Feb-72',\n",
       "       'May-76', 'Mar-68', 'Mar-76', 'Jul-70', 'Mar-79', 'Jul-76',\n",
       "       'Jul-82', 'Sep-65', 'Apr-67', 'Oct-63', 'Feb-70', 'Jul-73',\n",
       "       'Feb-78', 'Nov-71', 'Aug-72', 'Jul-75', 'Sep-70', 'Jul-81',\n",
       "       'Oct-64', 'Sep-72', 'May-70', 'May-63', 'Feb-69', 'Nov-80',\n",
       "       'Jul-67', 'Apr-70', 'Nov-77', 'Nov-66', 'May-71', 'Apr-79',\n",
       "       'May-72', 'Feb-68', 'Jul-64', 'Nov-67', 'Apr-64', 'Feb-75',\n",
       "       'Jun-59', 'Sep-56', 'Jun-66', 'Jan-46', 'Mar-66', 'Jan-63',\n",
       "       'Dec-50', 'Jul-69', 'Jan-68', 'Nov-73', 'Jun-70', 'Feb-77',\n",
       "       'Feb-74', 'Jan-73', 'Feb-66', 'Dec-61', 'Aug-73', 'Aug-70',\n",
       "       'Sep-69', 'Sep-75', 'Dec-68', 'Nov-54', 'Oct-69', 'Dec-65',\n",
       "       'Apr-72', 'Nov-72', 'Sep-63', 'Apr-69', 'Nov-62', 'Oct-67',\n",
       "       'May-67', 'Nov-61', 'Feb-67', 'Nov-68', 'Oct-75', 'Mar-71',\n",
       "       'Aug-71', 'Dec-66', 'Oct-68', 'Oct-74'], dtype=object)"
      ]
     },
     "execution_count": 72,
     "metadata": {},
     "output_type": "execute_result"
    }
   ],
   "source": [
    "loan.earliest_cr_line.unique()"
   ]
  },
  {
   "cell_type": "markdown",
   "metadata": {},
   "source": [
    "earliest_cr_line needs to be converted to datetime format"
   ]
  },
  {
   "cell_type": "code",
   "execution_count": 73,
   "metadata": {},
   "outputs": [
    {
     "data": {
      "text/plain": [
       "dtype('<M8[ns]')"
      ]
     },
     "execution_count": 73,
     "metadata": {},
     "output_type": "execute_result"
    }
   ],
   "source": [
    "loan['earliest_cr_line'] = pd.to_datetime(loan.earliest_cr_line,format='%b-%y')\n",
    "loan.earliest_cr_line.dtype"
   ]
  },
  {
   "cell_type": "markdown",
   "metadata": {},
   "source": [
    "##### revol_util is categorical"
   ]
  },
  {
   "cell_type": "code",
   "execution_count": 74,
   "metadata": {},
   "outputs": [
    {
     "data": {
      "text/plain": [
       "array(['83.70%', '9.40%', '98.50%', ..., '49.63%', '0.04%', '7.28%'],\n",
       "      dtype=object)"
      ]
     },
     "execution_count": 74,
     "metadata": {},
     "output_type": "execute_result"
    }
   ],
   "source": [
    "loan.revol_util.unique()"
   ]
  },
  {
   "cell_type": "code",
   "execution_count": 75,
   "metadata": {},
   "outputs": [],
   "source": [
    "# percentage % needs to be removed and converted to fraction rounded upto 2 decimal places\n",
    "loan['revol_util'] = loan.revol_util.apply(lambda x: float(x.replace('%',''))/100)"
   ]
  },
  {
   "cell_type": "markdown",
   "metadata": {},
   "source": [
    "Now lets check if we have successfully treated all the object dtypes in the dataset"
   ]
  },
  {
   "cell_type": "code",
   "execution_count": 76,
   "metadata": {},
   "outputs": [
    {
     "data": {
      "text/plain": [
       "Index(['grade', 'sub_grade', 'emp_title', 'home_ownership',\n",
       "       'verification_status', 'loan_status', 'desc', 'purpose', 'title',\n",
       "       'zip_code', 'addr_state', 'zip_code_first3'],\n",
       "      dtype='object')"
      ]
     },
     "execution_count": 76,
     "metadata": {},
     "output_type": "execute_result"
    }
   ],
   "source": [
    "loan.select_dtypes(include=['object']).columns"
   ]
  },
  {
   "cell_type": "markdown",
   "metadata": {},
   "source": [
    "Also to check if there are any other dtypes needs to be treated other than object"
   ]
  },
  {
   "cell_type": "code",
   "execution_count": 77,
   "metadata": {},
   "outputs": [
    {
     "data": {
      "text/plain": [
       "Index([], dtype='object')"
      ]
     },
     "execution_count": 77,
     "metadata": {},
     "output_type": "execute_result"
    }
   ],
   "source": [
    "loan.select_dtypes(exclude=['object','datetime64','float','int']).columns"
   ]
  },
  {
   "cell_type": "markdown",
   "metadata": {},
   "source": [
    "### 4. Validate internal rules"
   ]
  },
  {
   "cell_type": "markdown",
   "metadata": {},
   "source": [
    "#### 4.1 Date validation: issue_d is older than last_pymnt_d"
   ]
  },
  {
   "cell_type": "code",
   "execution_count": 78,
   "metadata": {},
   "outputs": [
    {
     "data": {
      "text/html": [
       "<div>\n",
       "<style scoped>\n",
       "    .dataframe tbody tr th:only-of-type {\n",
       "        vertical-align: middle;\n",
       "    }\n",
       "\n",
       "    .dataframe tbody tr th {\n",
       "        vertical-align: top;\n",
       "    }\n",
       "\n",
       "    .dataframe thead th {\n",
       "        text-align: right;\n",
       "    }\n",
       "</style>\n",
       "<table border=\"1\" class=\"dataframe\">\n",
       "  <thead>\n",
       "    <tr style=\"text-align: right;\">\n",
       "      <th></th>\n",
       "      <th>loan_amnt</th>\n",
       "      <th>funded_amnt</th>\n",
       "      <th>funded_amnt_inv</th>\n",
       "      <th>term</th>\n",
       "      <th>int_rate</th>\n",
       "      <th>installment</th>\n",
       "      <th>grade</th>\n",
       "      <th>sub_grade</th>\n",
       "      <th>emp_title</th>\n",
       "      <th>emp_length</th>\n",
       "      <th>...</th>\n",
       "      <th>total_rec_int</th>\n",
       "      <th>total_rec_late_fee</th>\n",
       "      <th>recoveries</th>\n",
       "      <th>collection_recovery_fee</th>\n",
       "      <th>last_pymnt_d</th>\n",
       "      <th>last_pymnt_amnt</th>\n",
       "      <th>next_pymnt_d</th>\n",
       "      <th>last_credit_pull_d</th>\n",
       "      <th>pub_rec_bankruptcies</th>\n",
       "      <th>zip_code_first3</th>\n",
       "    </tr>\n",
       "  </thead>\n",
       "  <tbody>\n",
       "  </tbody>\n",
       "</table>\n",
       "<p>0 rows × 44 columns</p>\n",
       "</div>"
      ],
      "text/plain": [
       "Empty DataFrame\n",
       "Columns: [loan_amnt, funded_amnt, funded_amnt_inv, term, int_rate, installment, grade, sub_grade, emp_title, emp_length, home_ownership, annual_inc, verification_status, issue_d, loan_status, desc, purpose, title, zip_code, addr_state, dti, delinq_2yrs, earliest_cr_line, inq_last_6mths, open_acc, pub_rec, revol_bal, revol_util, total_acc, out_prncp, out_prncp_inv, total_pymnt, total_pymnt_inv, total_rec_prncp, total_rec_int, total_rec_late_fee, recoveries, collection_recovery_fee, last_pymnt_d, last_pymnt_amnt, next_pymnt_d, last_credit_pull_d, pub_rec_bankruptcies, zip_code_first3]\n",
       "Index: []\n",
       "\n",
       "[0 rows x 44 columns]"
      ]
     },
     "execution_count": 78,
     "metadata": {},
     "output_type": "execute_result"
    }
   ],
   "source": [
    "loan[loan.issue_d > loan.last_pymnt_d]"
   ]
  },
  {
   "cell_type": "markdown",
   "metadata": {},
   "source": [
    "No values found where issue_d is earlier than last_pymnt_d"
   ]
  },
  {
   "cell_type": "markdown",
   "metadata": {},
   "source": [
    "#### 4.2 Date validation: issue_d is older than next_pymnt_d"
   ]
  },
  {
   "cell_type": "code",
   "execution_count": 79,
   "metadata": {},
   "outputs": [
    {
     "data": {
      "text/html": [
       "<div>\n",
       "<style scoped>\n",
       "    .dataframe tbody tr th:only-of-type {\n",
       "        vertical-align: middle;\n",
       "    }\n",
       "\n",
       "    .dataframe tbody tr th {\n",
       "        vertical-align: top;\n",
       "    }\n",
       "\n",
       "    .dataframe thead th {\n",
       "        text-align: right;\n",
       "    }\n",
       "</style>\n",
       "<table border=\"1\" class=\"dataframe\">\n",
       "  <thead>\n",
       "    <tr style=\"text-align: right;\">\n",
       "      <th></th>\n",
       "      <th>loan_amnt</th>\n",
       "      <th>funded_amnt</th>\n",
       "      <th>funded_amnt_inv</th>\n",
       "      <th>term</th>\n",
       "      <th>int_rate</th>\n",
       "      <th>installment</th>\n",
       "      <th>grade</th>\n",
       "      <th>sub_grade</th>\n",
       "      <th>emp_title</th>\n",
       "      <th>emp_length</th>\n",
       "      <th>...</th>\n",
       "      <th>total_rec_int</th>\n",
       "      <th>total_rec_late_fee</th>\n",
       "      <th>recoveries</th>\n",
       "      <th>collection_recovery_fee</th>\n",
       "      <th>last_pymnt_d</th>\n",
       "      <th>last_pymnt_amnt</th>\n",
       "      <th>next_pymnt_d</th>\n",
       "      <th>last_credit_pull_d</th>\n",
       "      <th>pub_rec_bankruptcies</th>\n",
       "      <th>zip_code_first3</th>\n",
       "    </tr>\n",
       "  </thead>\n",
       "  <tbody>\n",
       "  </tbody>\n",
       "</table>\n",
       "<p>0 rows × 44 columns</p>\n",
       "</div>"
      ],
      "text/plain": [
       "Empty DataFrame\n",
       "Columns: [loan_amnt, funded_amnt, funded_amnt_inv, term, int_rate, installment, grade, sub_grade, emp_title, emp_length, home_ownership, annual_inc, verification_status, issue_d, loan_status, desc, purpose, title, zip_code, addr_state, dti, delinq_2yrs, earliest_cr_line, inq_last_6mths, open_acc, pub_rec, revol_bal, revol_util, total_acc, out_prncp, out_prncp_inv, total_pymnt, total_pymnt_inv, total_rec_prncp, total_rec_int, total_rec_late_fee, recoveries, collection_recovery_fee, last_pymnt_d, last_pymnt_amnt, next_pymnt_d, last_credit_pull_d, pub_rec_bankruptcies, zip_code_first3]\n",
       "Index: []\n",
       "\n",
       "[0 rows x 44 columns]"
      ]
     },
     "execution_count": 79,
     "metadata": {},
     "output_type": "execute_result"
    }
   ],
   "source": [
    "loan[loan.issue_d > loan.last_pymnt_d]"
   ]
  },
  {
   "cell_type": "markdown",
   "metadata": {},
   "source": [
    "No values found where issue_d is earlier than next_pymnt_d"
   ]
  },
  {
   "cell_type": "markdown",
   "metadata": {},
   "source": [
    "#### 4.3 Date validation: last_pymnt_d is earlier than next_payment_d"
   ]
  },
  {
   "cell_type": "code",
   "execution_count": 80,
   "metadata": {},
   "outputs": [
    {
     "data": {
      "text/html": [
       "<div>\n",
       "<style scoped>\n",
       "    .dataframe tbody tr th:only-of-type {\n",
       "        vertical-align: middle;\n",
       "    }\n",
       "\n",
       "    .dataframe tbody tr th {\n",
       "        vertical-align: top;\n",
       "    }\n",
       "\n",
       "    .dataframe thead th {\n",
       "        text-align: right;\n",
       "    }\n",
       "</style>\n",
       "<table border=\"1\" class=\"dataframe\">\n",
       "  <thead>\n",
       "    <tr style=\"text-align: right;\">\n",
       "      <th></th>\n",
       "      <th>loan_amnt</th>\n",
       "      <th>funded_amnt</th>\n",
       "      <th>funded_amnt_inv</th>\n",
       "      <th>term</th>\n",
       "      <th>int_rate</th>\n",
       "      <th>installment</th>\n",
       "      <th>grade</th>\n",
       "      <th>sub_grade</th>\n",
       "      <th>emp_title</th>\n",
       "      <th>emp_length</th>\n",
       "      <th>...</th>\n",
       "      <th>total_rec_int</th>\n",
       "      <th>total_rec_late_fee</th>\n",
       "      <th>recoveries</th>\n",
       "      <th>collection_recovery_fee</th>\n",
       "      <th>last_pymnt_d</th>\n",
       "      <th>last_pymnt_amnt</th>\n",
       "      <th>next_pymnt_d</th>\n",
       "      <th>last_credit_pull_d</th>\n",
       "      <th>pub_rec_bankruptcies</th>\n",
       "      <th>zip_code_first3</th>\n",
       "    </tr>\n",
       "  </thead>\n",
       "  <tbody>\n",
       "  </tbody>\n",
       "</table>\n",
       "<p>0 rows × 44 columns</p>\n",
       "</div>"
      ],
      "text/plain": [
       "Empty DataFrame\n",
       "Columns: [loan_amnt, funded_amnt, funded_amnt_inv, term, int_rate, installment, grade, sub_grade, emp_title, emp_length, home_ownership, annual_inc, verification_status, issue_d, loan_status, desc, purpose, title, zip_code, addr_state, dti, delinq_2yrs, earliest_cr_line, inq_last_6mths, open_acc, pub_rec, revol_bal, revol_util, total_acc, out_prncp, out_prncp_inv, total_pymnt, total_pymnt_inv, total_rec_prncp, total_rec_int, total_rec_late_fee, recoveries, collection_recovery_fee, last_pymnt_d, last_pymnt_amnt, next_pymnt_d, last_credit_pull_d, pub_rec_bankruptcies, zip_code_first3]\n",
       "Index: []\n",
       "\n",
       "[0 rows x 44 columns]"
      ]
     },
     "execution_count": 80,
     "metadata": {},
     "output_type": "execute_result"
    }
   ],
   "source": [
    "loan[loan.last_pymnt_d > loan.next_pymnt_d]"
   ]
  },
  {
   "cell_type": "markdown",
   "metadata": {},
   "source": [
    "No values found where last_pymnt_d is earlier than next_payment_d"
   ]
  },
  {
   "cell_type": "markdown",
   "metadata": {},
   "source": [
    "#### loan dataset is now treated/cleaned for further analysis"
   ]
  },
  {
   "cell_type": "code",
   "execution_count": 81,
   "metadata": {},
   "outputs": [
    {
     "name": "stdout",
     "output_type": "stream",
     "text": [
      "<class 'pandas.core.frame.DataFrame'>\n",
      "RangeIndex: 39717 entries, 0 to 39716\n",
      "Data columns (total 44 columns):\n",
      "loan_amnt                  39717 non-null int64\n",
      "funded_amnt                39717 non-null int64\n",
      "funded_amnt_inv            39717 non-null float64\n",
      "term                       39717 non-null int64\n",
      "int_rate                   39717 non-null float64\n",
      "installment                39717 non-null float64\n",
      "grade                      39717 non-null object\n",
      "sub_grade                  39717 non-null object\n",
      "emp_title                  39717 non-null object\n",
      "emp_length                 38642 non-null float64\n",
      "home_ownership             39717 non-null object\n",
      "annual_inc                 39717 non-null float64\n",
      "verification_status        39717 non-null object\n",
      "issue_d                    39717 non-null datetime64[ns]\n",
      "loan_status                39717 non-null object\n",
      "desc                       39717 non-null object\n",
      "purpose                    39717 non-null object\n",
      "title                      39717 non-null object\n",
      "zip_code                   39717 non-null object\n",
      "addr_state                 39717 non-null object\n",
      "dti                        39717 non-null float64\n",
      "delinq_2yrs                39717 non-null int64\n",
      "earliest_cr_line           39717 non-null datetime64[ns]\n",
      "inq_last_6mths             39717 non-null int64\n",
      "open_acc                   39717 non-null int64\n",
      "pub_rec                    39717 non-null int64\n",
      "revol_bal                  39717 non-null int64\n",
      "revol_util                 39717 non-null float64\n",
      "total_acc                  39717 non-null int64\n",
      "out_prncp                  39717 non-null float64\n",
      "out_prncp_inv              39717 non-null float64\n",
      "total_pymnt                39717 non-null float64\n",
      "total_pymnt_inv            39717 non-null float64\n",
      "total_rec_prncp            39717 non-null float64\n",
      "total_rec_int              39717 non-null float64\n",
      "total_rec_late_fee         39717 non-null float64\n",
      "recoveries                 39717 non-null float64\n",
      "collection_recovery_fee    39717 non-null float64\n",
      "last_pymnt_d               39646 non-null datetime64[ns]\n",
      "last_pymnt_amnt            39717 non-null float64\n",
      "next_pymnt_d               1140 non-null datetime64[ns]\n",
      "last_credit_pull_d         39715 non-null datetime64[ns]\n",
      "pub_rec_bankruptcies       39717 non-null float64\n",
      "zip_code_first3            39717 non-null object\n",
      "dtypes: datetime64[ns](5), float64(18), int64(9), object(12)\n",
      "memory usage: 13.3+ MB\n"
     ]
    }
   ],
   "source": [
    "loan.info()"
   ]
  },
  {
   "cell_type": "markdown",
   "metadata": {},
   "source": [
    "## Analysis"
   ]
  },
  {
   "cell_type": "code",
   "execution_count": 82,
   "metadata": {},
   "outputs": [
    {
     "data": {
      "text/plain": [
       "desc                           2\n",
       "next_pymnt_d                   2\n",
       "term                           2\n",
       "pub_rec_bankruptcies           3\n",
       "loan_status                    3\n",
       "verification_status            3\n",
       "pub_rec                        5\n",
       "home_ownership                 5\n",
       "grade                          7\n",
       "inq_last_6mths                 9\n",
       "emp_length                    10\n",
       "delinq_2yrs                   11\n",
       "purpose                       14\n",
       "int_rate                      21\n",
       "sub_grade                     35\n",
       "open_acc                      40\n",
       "addr_state                    50\n",
       "issue_d                       55\n",
       "total_acc                     82\n",
       "last_pymnt_d                 101\n",
       "last_credit_pull_d           106\n",
       "earliest_cr_line             526\n",
       "zip_code_first3              823\n",
       "zip_code                     823\n",
       "loan_amnt                    885\n",
       "funded_amnt                 1041\n",
       "revol_util                  1089\n",
       "out_prncp                   1137\n",
       "out_prncp_inv               1138\n",
       "total_rec_late_fee          1356\n",
       "collection_recovery_fee     2616\n",
       "dti                         2868\n",
       "recoveries                  4040\n",
       "annual_inc                  5318\n",
       "total_rec_prncp             7976\n",
       "funded_amnt_inv             8205\n",
       "installment                15383\n",
       "title                      19616\n",
       "revol_bal                  21711\n",
       "emp_title                  28820\n",
       "last_pymnt_amnt            34930\n",
       "total_rec_int              35148\n",
       "total_pymnt_inv            37518\n",
       "total_pymnt                37850\n",
       "dtype: int64"
      ]
     },
     "execution_count": 82,
     "metadata": {},
     "output_type": "execute_result"
    }
   ],
   "source": [
    "loan.nunique().sort_values(ascending = True)"
   ]
  },
  {
   "cell_type": "markdown",
   "metadata": {},
   "source": [
    "### unordered categorical variables\n",
    "\n",
    "###### pub_rec_bankruptcies\n",
    "###### emp_title\n",
    "###### home_ownership\n",
    "######  verification_status\n",
    "######  purpose\n",
    "######  title\n",
    "######  zipcode\n",
    "######  addr_state\n",
    "######  revol_util\n"
   ]
  },
  {
   "cell_type": "code",
   "execution_count": 83,
   "metadata": {},
   "outputs": [
    {
     "data": {
      "image/png": "[encoded data removed]",
      "text/plain": [
       "<matplotlib.figure.Figure at 0x117f70b70>"
      ]
     },
     "metadata": {},
     "output_type": "display_data"
    }
   ],
   "source": [
    "#pub_rec_bankruptcies                              2\n",
    "pub_rec_bankruptcies_Frequency = loan.groupby('pub_rec_bankruptcies').size().reset_index(name='Frequency')\n",
    "plt.figure(figsize=(12, 5))\n",
    "sns.barplot(x='pub_rec_bankruptcies', y='Frequency', data=pub_rec_bankruptcies_Frequency)\n",
    "plt.title(\"pub_rec_bankruptcies Frequency\")\n",
    "\n",
    "plt.show()"
   ]
  },
  {
   "cell_type": "code",
   "execution_count": 84,
   "metadata": {
    "scrolled": true
   },
   "outputs": [
    {
     "data": {
      "image/png": "[encoded data removed]",
      "text/plain": [
       "<matplotlib.figure.Figure at 0x1a1f2e6518>"
      ]
     },
     "metadata": {},
     "output_type": "display_data"
    }
   ],
   "source": [
    "#loan_status                              2\n",
    "loan_status_Frequency = loan.groupby('loan_status').size().reset_index(name='Frequency')\n",
    "plt.figure(figsize=(12, 5))\n",
    "sns.barplot(x='loan_status', y='Frequency', data=loan_status_Frequency)\n",
    "plt.title(\"loan_status Frequency\")\n",
    "\n",
    "plt.show()"
   ]
  },
  {
   "cell_type": "code",
   "execution_count": 85,
   "metadata": {},
   "outputs": [
    {
     "data": {
      "image/png": "[encoded data removed]",
      "text/plain": [
       "<matplotlib.figure.Figure at 0x1a1ef3de10>"
      ]
     },
     "metadata": {},
     "output_type": "display_data"
    }
   ],
   "source": [
    "# delinq_2yrs                   11\n",
    "delinq_2yrs_Frequency = loan.groupby('delinq_2yrs').size().reset_index(name='Frequency')\n",
    "plt.figure(figsize=(15, 8))\n",
    "sns.barplot(x='delinq_2yrs', y='Frequency', data=delinq_2yrs_Frequency)\n",
    "plt.title(\"delinq_2yrs Frequency\")\n",
    "\n",
    "plt.show()"
   ]
  },
  {
   "cell_type": "code",
   "execution_count": 86,
   "metadata": {},
   "outputs": [
    {
     "data": {
      "image/png": "[encoded data removed]",
      "text/plain": [
       "<matplotlib.figure.Figure at 0x1a1ee9add8>"
      ]
     },
     "metadata": {},
     "output_type": "display_data"
    }
   ],
   "source": [
    "# delinq_2yrs  log log graph      \n",
    "plt.figure(figsize=(10, 5))\n",
    "plt.xscale('log')\n",
    "plt.yscale('log')\n",
    "plt.plot('delinq_2yrs','Frequency',data=delinq_2yrs_Frequency)\n",
    "plt.title(\"delinq_2yrs Frequency\")\n",
    "\n",
    "plt.show()"
   ]
  },
  {
   "cell_type": "code",
   "execution_count": 87,
   "metadata": {},
   "outputs": [
    {
     "data": {
      "image/png": "[encoded data removed]",
      "text/plain": [
       "<matplotlib.figure.Figure at 0x1a1ddf7cf8>"
      ]
     },
     "metadata": {},
     "output_type": "display_data"
    }
   ],
   "source": [
    "# verification_status            3\n",
    "verification_status_Frequency = loan.groupby('verification_status').size().reset_index(name='Frequency')\n",
    "plt.figure(figsize=(12, 5))\n",
    "sns.barplot(x='verification_status', y='Frequency', data=verification_status_Frequency)\n",
    "plt.title(\"verification_status Frequency\")\n",
    "\n",
    "plt.show()"
   ]
  },
  {
   "cell_type": "code",
   "execution_count": 88,
   "metadata": {},
   "outputs": [
    {
     "data": {
      "image/png": "[encoded data removed]",
      "text/plain": [
       "<matplotlib.figure.Figure at 0x1a1eefb4e0>"
      ]
     },
     "metadata": {},
     "output_type": "display_data"
    }
   ],
   "source": [
    "# pub_rec                        5\n",
    "pub_rec_Frequency = loan.groupby('pub_rec').size().reset_index(name='Frequency')\n",
    "plt.figure(figsize=(12, 5))\n",
    "sns.barplot(x='pub_rec', y='Frequency', data=pub_rec_Frequency)\n",
    "plt.title(\"pub_rec Frequency\")\n",
    "\n",
    "plt.show()"
   ]
  },
  {
   "cell_type": "code",
   "execution_count": 89,
   "metadata": {},
   "outputs": [
    {
     "data": {
      "image/png": "[encoded data removed]",
      "text/plain": [
       "<matplotlib.figure.Figure at 0x1a1dd98e80>"
      ]
     },
     "metadata": {},
     "output_type": "display_data"
    }
   ],
   "source": [
    "# home_ownership                 5\n",
    "home_ownership_Frequency = loan.groupby('home_ownership').size().reset_index(name='Frequency')\n",
    "plt.figure(figsize=(12, 5))\n",
    "sns.barplot(x='home_ownership', y='Frequency', data=home_ownership_Frequency)\n",
    "plt.title(\"home_ownership Frequency\")\n",
    "\n",
    "plt.show()"
   ]
  },
  {
   "cell_type": "code",
   "execution_count": 90,
   "metadata": {},
   "outputs": [
    {
     "data": {
      "image/png": "[encoded data removed]",
      "text/plain": [
       "<matplotlib.figure.Figure at 0x114325c50>"
      ]
     },
     "metadata": {},
     "output_type": "display_data"
    }
   ],
   "source": [
    "# inq_last_6mths                 9\n",
    "inq_last_6mths_Frequency = loan.groupby('inq_last_6mths').size().reset_index(name='Frequency')\n",
    "plt.figure(figsize=(12, 5))\n",
    "sns.barplot(x='inq_last_6mths', y='Frequency', data=inq_last_6mths_Frequency)\n",
    "plt.title(\"inq_last_6mths Frequency\")\n",
    "\n",
    "plt.show()"
   ]
  },
  {
   "cell_type": "code",
   "execution_count": 91,
   "metadata": {},
   "outputs": [
    {
     "data": {
      "image/png": "[encoded data removed]",
      "text/plain": [
       "<matplotlib.figure.Figure at 0x1145655f8>"
      ]
     },
     "metadata": {},
     "output_type": "display_data"
    }
   ],
   "source": [
    "# inq_last_6mths  log log graph      \n",
    "plt.figure(figsize=(10, 5))\n",
    "plt.xscale('log')\n",
    "plt.yscale('log')\n",
    "plt.plot('inq_last_6mths','Frequency',data=inq_last_6mths_Frequency)\n",
    "plt.title(\"inq_last_6mths Frequency\")\n",
    "\n",
    "plt.show()"
   ]
  },
  {
   "cell_type": "code",
   "execution_count": 92,
   "metadata": {},
   "outputs": [
    {
     "data": {
      "image/png": "[encoded data removed]",
      "text/plain": [
       "<matplotlib.figure.Figure at 0x1176759e8>"
      ]
     },
     "metadata": {},
     "output_type": "display_data"
    }
   ],
   "source": [
    "# emp_length                    10\n",
    "emp_length_Frequency = loan.groupby('emp_length').size().reset_index(name='Frequency')\n",
    "plt.figure(figsize=(12, 5))\n",
    "sns.barplot(x='emp_length', y='Frequency', data=emp_length_Frequency)\n",
    "plt.title(\"emp_length Frequency\")\n",
    "\n",
    "plt.show()"
   ]
  },
  {
   "cell_type": "code",
   "execution_count": 93,
   "metadata": {},
   "outputs": [
    {
     "data": {
      "image/png": "[encoded data removed]",
      "text/plain": [
       "<matplotlib.figure.Figure at 0x11455ca90>"
      ]
     },
     "metadata": {},
     "output_type": "display_data"
    }
   ],
   "source": [
    "# emp_length  log log graph      \n",
    "plt.figure(figsize=(10, 5))\n",
    "plt.xscale('log')\n",
    "plt.yscale('log')\n",
    "plt.plot('emp_length','Frequency',data=emp_length_Frequency)\n",
    "plt.title(\"emp_length Frequency\")\n",
    "\n",
    "plt.show()"
   ]
  },
  {
   "cell_type": "code",
   "execution_count": 94,
   "metadata": {},
   "outputs": [
    {
     "data": {
      "image/png": "[encoded data removed]",
      "text/plain": [
       "<matplotlib.figure.Figure at 0x1a1ef63a58>"
      ]
     },
     "metadata": {},
     "output_type": "display_data"
    }
   ],
   "source": [
    "# purpose                       14\n",
    "purpose_Frequency = loan.groupby('purpose').size().reset_index(name='Frequency')\n",
    "plt.figure(figsize=(20, 5))\n",
    "sns.barplot(x='purpose', y='Frequency', data=purpose_Frequency)\n",
    "plt.title(\"purpose Frequency\")\n",
    "\n",
    "plt.show()"
   ]
  },
  {
   "cell_type": "code",
   "execution_count": 95,
   "metadata": {},
   "outputs": [
    {
     "data": {
      "image/png": "[encoded data removed]",
      "text/plain": [
       "<matplotlib.figure.Figure at 0x1a1dd989e8>"
      ]
     },
     "metadata": {},
     "output_type": "display_data"
    }
   ],
   "source": [
    "# int_rate                      21\n",
    "int_rate_Frequency = loan.groupby('int_rate').size().reset_index(name='Frequency')\n",
    "plt.figure(figsize=(12, 5))\n",
    "sns.barplot(x='int_rate', y='Frequency', data=int_rate_Frequency)\n",
    "plt.title(\"int_rate Frequency\")\n",
    "\n",
    "plt.show()"
   ]
  },
  {
   "cell_type": "markdown",
   "metadata": {},
   "source": [
    "### Inferences\n",
    "\n",
    "1. Most records have 0 bankruptcy record\n",
    "2. 1 out of 6 loan is charged off\n",
    "3. delinq_2yrs and loan_status seems to have a pattern. Fully_paid category of loan vs 0 delinq_2yrs & charged_off category of loan vs 1 delinq_2yrs.  Record with past-due incidences of delinquency may fall towards charged_off category\n",
    "4. Employment length of 1 and 10 have most loan requests and the graph and the graph slopes down from 1 till 9\n"
   ]
  },
  {
   "cell_type": "markdown",
   "metadata": {},
   "source": [
    "### unordered categorical variables\n",
    "\n",
    "1.grade\n",
    "\n",
    "2.sub_grade"
   ]
  },
  {
   "cell_type": "code",
   "execution_count": 96,
   "metadata": {},
   "outputs": [
    {
     "data": {
      "image/png": "[encoded data removed]",
      "text/plain": [
       "<matplotlib.figure.Figure at 0x1a1de22c18>"
      ]
     },
     "metadata": {},
     "output_type": "display_data"
    }
   ],
   "source": [
    "# grade            \n",
    "grade_Frequency = loan.groupby('grade').size().reset_index(name='Frequency')\n",
    "plt.figure(figsize=(12, 5))\n",
    "sns.barplot(x='grade', y='Frequency', data=grade_Frequency)\n",
    "plt.title(\"grade Frequency\")\n",
    "\n",
    "plt.show()"
   ]
  },
  {
   "cell_type": "code",
   "execution_count": 97,
   "metadata": {},
   "outputs": [
    {
     "data": {
      "image/png": "[encoded data removed]",
      "text/plain": [
       "<matplotlib.figure.Figure at 0x1a1de42208>"
      ]
     },
     "metadata": {},
     "output_type": "display_data"
    }
   ],
   "source": [
    "# sub_grade            \n",
    "sub_grade_Frequency = loan.groupby('sub_grade').size().reset_index(name='Frequency')\n",
    "plt.figure(figsize=(12, 5))\n",
    "sns.barplot(x='sub_grade', y='Frequency', data=sub_grade_Frequency)\n",
    "plt.title(\"sub_grade Frequency\")\n",
    "\n",
    "plt.show()"
   ]
  },
  {
   "cell_type": "markdown",
   "metadata": {},
   "source": [
    "### Inferences\n",
    "Most records fall under grade 'B' followed by 'A' and others"
   ]
  },
  {
   "cell_type": "markdown",
   "metadata": {},
   "source": [
    "### Quantitative variables"
   ]
  },
  {
   "cell_type": "code",
   "execution_count": 98,
   "metadata": {},
   "outputs": [
    {
     "data": {
      "text/plain": [
       "desc                           2\n",
       "next_pymnt_d                   2\n",
       "term                           2\n",
       "pub_rec_bankruptcies           3\n",
       "loan_status                    3\n",
       "verification_status            3\n",
       "pub_rec                        5\n",
       "home_ownership                 5\n",
       "grade                          7\n",
       "inq_last_6mths                 9\n",
       "emp_length                    10\n",
       "delinq_2yrs                   11\n",
       "purpose                       14\n",
       "int_rate                      21\n",
       "sub_grade                     35\n",
       "open_acc                      40\n",
       "addr_state                    50\n",
       "issue_d                       55\n",
       "total_acc                     82\n",
       "last_pymnt_d                 101\n",
       "last_credit_pull_d           106\n",
       "earliest_cr_line             526\n",
       "zip_code_first3              823\n",
       "zip_code                     823\n",
       "loan_amnt                    885\n",
       "funded_amnt                 1041\n",
       "revol_util                  1089\n",
       "out_prncp                   1137\n",
       "out_prncp_inv               1138\n",
       "total_rec_late_fee          1356\n",
       "collection_recovery_fee     2616\n",
       "dti                         2868\n",
       "recoveries                  4040\n",
       "annual_inc                  5318\n",
       "total_rec_prncp             7976\n",
       "funded_amnt_inv             8205\n",
       "installment                15383\n",
       "title                      19616\n",
       "revol_bal                  21711\n",
       "emp_title                  28820\n",
       "last_pymnt_amnt            34930\n",
       "total_rec_int              35148\n",
       "total_pymnt_inv            37518\n",
       "total_pymnt                37850\n",
       "dtype: int64"
      ]
     },
     "execution_count": 98,
     "metadata": {},
     "output_type": "execute_result"
    }
   ],
   "source": [
    "loan.nunique().sort_values(ascending = True)"
   ]
  },
  {
   "cell_type": "code",
   "execution_count": 99,
   "metadata": {},
   "outputs": [
    {
     "data": {
      "text/plain": [
       "<matplotlib.axes._subplots.AxesSubplot at 0x117e52898>"
      ]
     },
     "execution_count": 99,
     "metadata": {},
     "output_type": "execute_result"
    },
    {
     "data": {
      "image/png": "[encoded data removed]",
      "text/plain": [
       "<matplotlib.figure.Figure at 0x117d964e0>"
      ]
     },
     "metadata": {},
     "output_type": "display_data"
    }
   ],
   "source": [
    "loan.boxplot(column='funded_amnt', by='purpose',figsize=(18,8))\n"
   ]
  },
  {
   "cell_type": "code",
   "execution_count": 100,
   "metadata": {},
   "outputs": [
    {
     "data": {
      "text/plain": [
       "<matplotlib.axes._subplots.AxesSubplot at 0x1a1ddfbf60>"
      ]
     },
     "execution_count": 100,
     "metadata": {},
     "output_type": "execute_result"
    },
    {
     "data": {
      "image/png": "[encoded data removed]",
      "text/plain": [
       "<matplotlib.figure.Figure at 0x1a1ef89908>"
      ]
     },
     "metadata": {},
     "output_type": "display_data"
    }
   ],
   "source": [
    "loan.boxplot(column='funded_amnt_inv', by='purpose',figsize=(18,8))"
   ]
  },
  {
   "cell_type": "markdown",
   "metadata": {},
   "source": [
    "All below variables of 'purpose' column share almost same mean, median and percentile with respect to 'funded_amnt' and 'funded_amnt_inv'\n",
    "\n",
    "`credit_card`\n",
    ", `debt_consolidation`\n",
    ", `home_improvement`\n",
    ", `house`\n",
    ", `smll_business` \n",
    "\n",
    "loan amount is spread in same manner for listed purposes."
   ]
  },
  {
   "cell_type": "code",
   "execution_count": 101,
   "metadata": {},
   "outputs": [
    {
     "data": {
      "text/plain": [
       "<matplotlib.axes._subplots.AxesSubplot at 0x117cadf60>"
      ]
     },
     "execution_count": 101,
     "metadata": {},
     "output_type": "execute_result"
    },
    {
     "data": {
      "image/png": "[encoded data removed]",
      "text/plain": [
       "<matplotlib.figure.Figure at 0x1a1dd80160>"
      ]
     },
     "metadata": {},
     "output_type": "display_data"
    }
   ],
   "source": [
    "loan.boxplot(column='funded_amnt', by='grade',figsize=(18,8))"
   ]
  },
  {
   "cell_type": "code",
   "execution_count": 102,
   "metadata": {},
   "outputs": [
    {
     "data": {
      "text/plain": [
       "<matplotlib.axes._subplots.AxesSubplot at 0x1176a59e8>"
      ]
     },
     "execution_count": 102,
     "metadata": {},
     "output_type": "execute_result"
    },
    {
     "data": {
      "image/png": "[encoded data removed]",
      "text/plain": [
       "<matplotlib.figure.Figure at 0x1176854a8>"
      ]
     },
     "metadata": {},
     "output_type": "display_data"
    }
   ],
   "source": [
    "loan.boxplot(column='funded_amnt_inv', by='grade',figsize=(18,8))"
   ]
  },
  {
   "cell_type": "markdown",
   "metadata": {},
   "source": [
    "`funded_amnt` and `funded_amnt_inv` gradually increases from A grade to F grade."
   ]
  },
  {
   "cell_type": "markdown",
   "metadata": {},
   "source": [
    "There are outliers in columns 'funded_amnt' and 'funded_amnt_inv' that has to be cleaned"
   ]
  },
  {
   "cell_type": "code",
   "execution_count": 103,
   "metadata": {},
   "outputs": [
    {
     "data": {
      "text/plain": [
       "<matplotlib.axes._subplots.AxesSubplot at 0x11764ad30>"
      ]
     },
     "execution_count": 103,
     "metadata": {},
     "output_type": "execute_result"
    },
    {
     "data": {
      "image/png": "[encoded data removed]",
      "text/plain": [
       "<matplotlib.figure.Figure at 0x1176ade48>"
      ]
     },
     "metadata": {},
     "output_type": "display_data"
    }
   ],
   "source": [
    "loan.boxplot(column='annual_inc', by='loan_status',figsize=(18,8))"
   ]
  },
  {
   "cell_type": "markdown",
   "metadata": {},
   "source": [
    "Outliers in `annual_inc` to be removed"
   ]
  },
  {
   "cell_type": "code",
   "execution_count": 106,
   "metadata": {},
   "outputs": [
    {
     "data": {
      "text/plain": [
       "<matplotlib.axes._subplots.AxesSubplot at 0x10e283550>"
      ]
     },
     "execution_count": 106,
     "metadata": {},
     "output_type": "execute_result"
    },
    {
     "data": {
      "image/png": "[encoded data removed]",
      "text/plain": [
       "<matplotlib.figure.Figure at 0x117d019b0>"
      ]
     },
     "metadata": {},
     "output_type": "display_data"
    }
   ],
   "source": [
    "\n",
    "loan.boxplot(column='total_pymnt_inv', by='loan_status',figsize=(18,8))"
   ]
  },
  {
   "cell_type": "code",
   "execution_count": 107,
   "metadata": {},
   "outputs": [
    {
     "data": {
      "text/plain": [
       "<matplotlib.axes._subplots.AxesSubplot at 0x1a1f06fa90>"
      ]
     },
     "execution_count": 107,
     "metadata": {},
     "output_type": "execute_result"
    },
    {
     "data": {
      "image/png": "[encoded data removed]",
      "text/plain": [
       "<matplotlib.figure.Figure at 0x1a1f0942e8>"
      ]
     },
     "metadata": {},
     "output_type": "display_data"
    }
   ],
   "source": [
    "loan.boxplot(column='total_pymnt', by='loan_status',figsize=(18,8))"
   ]
  },
  {
   "cell_type": "code",
   "execution_count": 110,
   "metadata": {},
   "outputs": [
    {
     "data": {
      "text/plain": [
       "<matplotlib.axes._subplots.AxesSubplot at 0x114915080>"
      ]
     },
     "execution_count": 110,
     "metadata": {},
     "output_type": "execute_result"
    },
    {
     "data": {
      "image/png": "[encoded data removed]",
      "text/plain": [
       "<matplotlib.figure.Figure at 0x11622bc50>"
      ]
     },
     "metadata": {},
     "output_type": "display_data"
    }
   ],
   "source": [
    "loan.boxplot(column='total_rec_prncp', by='loan_status',figsize=(18,8))"
   ]
  },
  {
   "cell_type": "code",
   "execution_count": 111,
   "metadata": {},
   "outputs": [
    {
     "data": {
      "text/plain": [
       "<matplotlib.axes._subplots.AxesSubplot at 0x114915e10>"
      ]
     },
     "execution_count": 111,
     "metadata": {},
     "output_type": "execute_result"
    },
    {
     "data": {
      "image/png": "[encoded data removed]",
      "text/plain": [
       "<matplotlib.figure.Figure at 0x117477908>"
      ]
     },
     "metadata": {},
     "output_type": "display_data"
    }
   ],
   "source": [
    "loan.boxplot(column='total_rec_int', by='loan_status',figsize=(18,8))"
   ]
  },
  {
   "cell_type": "markdown",
   "metadata": {},
   "source": [
    "With above four plots on `total_pymnt` , `total_pymnt_inv` , `total_rec_int` and `total_rec_prncp` versus `loan_status`,\n",
    "\n",
    "Loan with lesser repayment are charged Off and loan with higher repayment are either in progress or fully paid."
   ]
  },
  {
   "cell_type": "code",
   "execution_count": null,
   "metadata": {},
   "outputs": [],
   "source": []
  }
 ],
 "metadata": {
  "kernelspec": {
   "display_name": "Python 3",
   "language": "python",
   "name": "python3"
  },
  "language_info": {
   "codemirror_mode": {
    "name": "ipython",
    "version": 3
   },
   "file_extension": ".py",
   "mimetype": "text/x-python",
   "name": "python",
   "nbconvert_exporter": "python",
   "pygments_lexer": "ipython3",
   "version": "3.6.4"
  }
 },
 "nbformat": 4,
 "nbformat_minor": 2
}
